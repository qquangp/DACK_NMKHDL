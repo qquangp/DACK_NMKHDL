{
 "cells": [
  {
   "cell_type": "markdown",
   "id": "30d67261",
   "metadata": {},
   "source": [
    "# Đồ án cuối kỳ\n",
    "\n",
    "(Cập nhật lần cuối: 12/09/2021)\n",
    "\n",
    "Họ tên: Lê Hồng Quang\n",
    "\n",
    "MSSV: 18127190\n",
    "\n",
    "Họ tên: Lê Thanh Sơn\n",
    "\n",
    "MSSV: 18127199"
   ]
  },
  {
   "cell_type": "markdown",
   "id": "67a4578e",
   "metadata": {},
   "source": [
    "# 2. Khám phá dữ liệu"
   ]
  },
  {
   "cell_type": "code",
   "execution_count": 1,
   "id": "8ae12063",
   "metadata": {},
   "outputs": [],
   "source": [
    "import matplotlib.pyplot as plt\n",
    "import numpy as np\n",
    "import pandas as pd\n",
    "import seaborn as sns\n",
    "from sklearn.model_selection import train_test_split\n",
    "from sklearn.preprocessing import OneHotEncoder, StandardScaler\n",
    "from sklearn.impute import SimpleImputer\n",
    "from sklearn.base import BaseEstimator, TransformerMixin\n",
    "from sklearn.pipeline import Pipeline, make_pipeline\n",
    "from sklearn.compose import ColumnTransformer, make_column_transformer\n",
    "from sklearn.neural_network import MLPClassifier\n",
    "from sklearn import set_config\n",
    "from sklearn.linear_model import LogisticRegression\n",
    "from sklearn.neighbors import KNeighborsClassifier\n",
    "set_config(display='diagram')"
   ]
  },
  {
   "cell_type": "markdown",
   "id": "ca1ab9c8",
   "metadata": {},
   "source": [
    "### Đọc dữ liệu từ file"
   ]
  },
  {
   "cell_type": "code",
   "execution_count": 2,
   "id": "bb91f12e",
   "metadata": {},
   "outputs": [],
   "source": [
    "air_df = pd.read_csv('data.csv', sep =  ',', index_col = 0)"
   ]
  },
  {
   "cell_type": "code",
   "execution_count": 3,
   "id": "3570d508",
   "metadata": {},
   "outputs": [
    {
     "data": {
      "text/html": [
       "<div>\n",
       "<style scoped>\n",
       "    .dataframe tbody tr th:only-of-type {\n",
       "        vertical-align: middle;\n",
       "    }\n",
       "\n",
       "    .dataframe tbody tr th {\n",
       "        vertical-align: top;\n",
       "    }\n",
       "\n",
       "    .dataframe thead th {\n",
       "        text-align: right;\n",
       "    }\n",
       "</style>\n",
       "<table border=\"1\" class=\"dataframe\">\n",
       "  <thead>\n",
       "    <tr style=\"text-align: right;\">\n",
       "      <th></th>\n",
       "      <th>co</th>\n",
       "      <th>no</th>\n",
       "      <th>no2</th>\n",
       "      <th>o3</th>\n",
       "      <th>so2</th>\n",
       "      <th>pm2_5</th>\n",
       "      <th>pm10</th>\n",
       "      <th>nh3</th>\n",
       "      <th>aqi</th>\n",
       "    </tr>\n",
       "  </thead>\n",
       "  <tbody>\n",
       "    <tr>\n",
       "      <th>0</th>\n",
       "      <td>313.76</td>\n",
       "      <td>0.01</td>\n",
       "      <td>0.79</td>\n",
       "      <td>36.84</td>\n",
       "      <td>0.21</td>\n",
       "      <td>2.92</td>\n",
       "      <td>3.11</td>\n",
       "      <td>0.47</td>\n",
       "      <td>1</td>\n",
       "    </tr>\n",
       "    <tr>\n",
       "      <th>1</th>\n",
       "      <td>320.44</td>\n",
       "      <td>0.05</td>\n",
       "      <td>0.85</td>\n",
       "      <td>40.77</td>\n",
       "      <td>0.31</td>\n",
       "      <td>2.91</td>\n",
       "      <td>3.15</td>\n",
       "      <td>0.51</td>\n",
       "      <td>1</td>\n",
       "    </tr>\n",
       "    <tr>\n",
       "      <th>2</th>\n",
       "      <td>333.79</td>\n",
       "      <td>0.08</td>\n",
       "      <td>0.75</td>\n",
       "      <td>49.35</td>\n",
       "      <td>0.47</td>\n",
       "      <td>3.35</td>\n",
       "      <td>3.69</td>\n",
       "      <td>0.57</td>\n",
       "      <td>1</td>\n",
       "    </tr>\n",
       "    <tr>\n",
       "      <th>3</th>\n",
       "      <td>357.15</td>\n",
       "      <td>0.09</td>\n",
       "      <td>0.69</td>\n",
       "      <td>62.94</td>\n",
       "      <td>0.70</td>\n",
       "      <td>4.78</td>\n",
       "      <td>5.32</td>\n",
       "      <td>0.72</td>\n",
       "      <td>1</td>\n",
       "    </tr>\n",
       "    <tr>\n",
       "      <th>4</th>\n",
       "      <td>397.21</td>\n",
       "      <td>0.08</td>\n",
       "      <td>0.68</td>\n",
       "      <td>82.97</td>\n",
       "      <td>1.12</td>\n",
       "      <td>7.92</td>\n",
       "      <td>8.72</td>\n",
       "      <td>0.94</td>\n",
       "      <td>2</td>\n",
       "    </tr>\n",
       "  </tbody>\n",
       "</table>\n",
       "</div>"
      ],
      "text/plain": [
       "       co    no   no2     o3   so2  pm2_5  pm10   nh3  aqi\n",
       "0  313.76  0.01  0.79  36.84  0.21   2.92  3.11  0.47    1\n",
       "1  320.44  0.05  0.85  40.77  0.31   2.91  3.15  0.51    1\n",
       "2  333.79  0.08  0.75  49.35  0.47   3.35  3.69  0.57    1\n",
       "3  357.15  0.09  0.69  62.94  0.70   4.78  5.32  0.72    1\n",
       "4  397.21  0.08  0.68  82.97  1.12   7.92  8.72  0.94    2"
      ]
     },
     "execution_count": 3,
     "metadata": {},
     "output_type": "execute_result"
    }
   ],
   "source": [
    "air_df.head()"
   ]
  },
  {
   "cell_type": "markdown",
   "id": "66ff939c",
   "metadata": {},
   "source": [
    "#### Dữ liệu có bao nhiêu dòng và bao nhiêu cột?"
   ]
  },
  {
   "cell_type": "code",
   "execution_count": 4,
   "id": "a9d4c102",
   "metadata": {},
   "outputs": [
    {
     "data": {
      "text/plain": [
       "(3235, 9)"
      ]
     },
     "execution_count": 4,
     "metadata": {},
     "output_type": "execute_result"
    }
   ],
   "source": [
    "air_df.shape"
   ]
  },
  {
   "cell_type": "markdown",
   "id": "f41d562a",
   "metadata": {},
   "source": [
    "#### Mỗi dòng có ý nghĩa gì? Có vấn đề các dòng có ý nghĩa khác nhau không?"
   ]
  },
  {
   "cell_type": "markdown",
   "id": "27606353",
   "metadata": {},
   "source": [
    "Mỗi dòng trong DataFrame `air_df` cho biết dữ liệu về các chỉ số và chất lượng không khí của các tỉnh, thành phố từ 0h ngày 1/8/2021 - 0h ngày 1/9/2021 . Có vẻ không có vấn đề các dòng có ý nghĩa khác nhau."
   ]
  },
  {
   "cell_type": "markdown",
   "id": "3bdd3cfa",
   "metadata": {},
   "source": [
    "#### Dữ liệu có các dòng bị lặp không?"
   ]
  },
  {
   "cell_type": "code",
   "execution_count": 5,
   "id": "3db90ad7",
   "metadata": {},
   "outputs": [
    {
     "data": {
      "text/plain": [
       "0"
      ]
     },
     "execution_count": 5,
     "metadata": {},
     "output_type": "execute_result"
    }
   ],
   "source": [
    "air_df.index.duplicated().sum()"
   ]
  },
  {
   "cell_type": "markdown",
   "id": "dfe03d2b",
   "metadata": {},
   "source": [
    "#### Mỗi cột có ý nghĩa gì?"
   ]
  },
  {
   "cell_type": "markdown",
   "id": "d26a5adf",
   "metadata": {},
   "source": [
    "<b>VARIABLE DESCRIPTIONS:</b>><br/>\n",
    "\n",
    "- <b>aqi</b>: Chỉ số chất lượng không khí (1,2,3,4,5) với (1 = Good; 2 = Fair; 3 = Moderate; 4 = Poor ; 5 = Very Poor)<br/>\n",
    "\n",
    "\n",
    "- <b>co</b>: Nồng độ CO (Carbon monoxide), μg/m³<br/>\n",
    "\n",
    "\n",
    "- <b>no</b>: Nồng độ NO (Nitrogen monoxide), μg/m³<br/>\n",
    "\n",
    "\n",
    "- <b>no2</b>: Nồng độ NO<sub>2</sub> (Nitrogen dioxide), μg/m³<br/>\n",
    "\n",
    "\n",
    "- <b>o3</b>: Nồng độ O<sub>3</sub> (Ozone), μg/m³<br/>\n",
    "\n",
    "\n",
    "- <b>so2</b>: Nồng độ SO<sub>2</sub> (Sulphur dioxide), μg/m³<br/>\n",
    "\n",
    "\n",
    "- <b>pm2_5</b>: Nồng độ PM<sub>2_5</sub> (Fine particles matter), μg/m³<br/>\n",
    "\n",
    "\n",
    "- <b>pm10</b>:  Nồng độ PM<sub>10</sub> (Coarse particulate matter), μg/m³<br/>\n",
    "\n",
    "\n",
    "- <b>nh3</b>: Nồng độ NH<sub>3</sub> (Ammonia), μg/m³<br/>"
   ]
  },
  {
   "cell_type": "markdown",
   "id": "a174894f",
   "metadata": {},
   "source": [
    "# 3. Đặt câu hỏi"
   ]
  },
  {
   "cell_type": "markdown",
   "id": "34073599",
   "metadata": {},
   "source": [
    "- Chất lượng không khí được phân loại như thế nào từ các chỉ số của các chất trong không khí?\n",
    "\n",
    "\n",
    "- Ý nghĩa thực tế của câu hỏi: Việc xác định chất lượng không khí từ các chất có trong không khí giúp phát triển thiết bị đo lường chất lượng không khí. Cảnh báo người dân các biện pháp bảo vệ bản thân và cộng đồng kịp thời như đeo khẩu trang, hạn chế sử dụng các phương tiện giao thông gây ô nhiễm... Ngoài ra, chính quyền địa phương có thể đưa ra các biện pháp nhằm hạn chế lượng khí thải từ các nhà máy, xí nghiệp, trồng thêm nhiều cây xanh để làm giảm ô nhiễm không khí, từ đó nâng cao chất lượng cuộc sống của con người."
   ]
  },
  {
   "cell_type": "markdown",
   "id": "bbefd5f0",
   "metadata": {},
   "source": [
    "# 4. Tiền xử lý"
   ]
  },
  {
   "cell_type": "markdown",
   "id": "95804a9d",
   "metadata": {},
   "source": [
    "### 4.1 Khám phá dữ liệu(để biết tách các tập)"
   ]
  },
  {
   "cell_type": "code",
   "execution_count": 6,
   "id": "a5cf6553",
   "metadata": {},
   "outputs": [
    {
     "data": {
      "text/plain": [
       "dtype('int64')"
      ]
     },
     "execution_count": 6,
     "metadata": {},
     "output_type": "execute_result"
    }
   ],
   "source": [
    "# Cột output hiện có kiểu dữ liệu gì?\n",
    "air_df['aqi'].dtype"
   ]
  },
  {
   "cell_type": "code",
   "execution_count": 7,
   "id": "8bba2c31",
   "metadata": {},
   "outputs": [
    {
     "data": {
      "text/plain": [
       "0"
      ]
     },
     "execution_count": 7,
     "metadata": {},
     "output_type": "execute_result"
    }
   ],
   "source": [
    "# Cột output có bao nhiêu giá trị thiếu?\n",
    "air_df['aqi'].isna().sum()"
   ]
  },
  {
   "cell_type": "code",
   "execution_count": 8,
   "id": "c040b1d5",
   "metadata": {},
   "outputs": [
    {
     "data": {
      "text/plain": [
       "2    21.298300\n",
       "4    20.340031\n",
       "3    20.247295\n",
       "1    19.103555\n",
       "5    19.010819\n",
       "Name: aqi, dtype: float64"
      ]
     },
     "execution_count": 8,
     "metadata": {},
     "output_type": "execute_result"
    }
   ],
   "source": [
    "# Tỉ lệ các lớp trong cột output?\n",
    "air_df['aqi'].value_counts(normalize=True) * 100"
   ]
  },
  {
   "cell_type": "markdown",
   "id": "d84d4d6b",
   "metadata": {},
   "source": [
    "- Tỉ lệ label ở cột ouput phân bổ khá đều nhau"
   ]
  },
  {
   "cell_type": "markdown",
   "id": "9d60600e",
   "metadata": {},
   "source": [
    "### 4.2 Tách các tập"
   ]
  },
  {
   "cell_type": "code",
   "execution_count": 9,
   "id": "b44ebf8b",
   "metadata": {},
   "outputs": [],
   "source": [
    "# Tách X và y\n",
    "y_sr = air_df[\"aqi\"] # sr là viết tắt của series\n",
    "X_df = air_df.drop(\"aqi\", axis=1)"
   ]
  },
  {
   "cell_type": "code",
   "execution_count": 10,
   "id": "8a8866a9",
   "metadata": {},
   "outputs": [],
   "source": [
    "# Tách tập huấn luyện,tập validation, tập test theo tỉ lệ 70%:20%:10%\n",
    "temp_X_df, test_X_df, temp_y_sr, test_y_sr = \\\n",
    "                              train_test_split(X_df, y_sr, \n",
    "                                               test_size=0.1, \n",
    "                                               stratify=y_sr, \n",
    "                                               random_state=0)\n",
    "train_X_df, val_X_df, train_y_sr, val_y_sr = \\\n",
    "                              train_test_split(temp_X_df, temp_y_sr, \n",
    "                                               test_size=2/9, \n",
    "                                               stratify=temp_y_sr, \n",
    "                                               random_state=0)\n"
   ]
  },
  {
   "cell_type": "code",
   "execution_count": 11,
   "id": "258a0e56",
   "metadata": {},
   "outputs": [
    {
     "data": {
      "text/plain": [
       "(2264, 8)"
      ]
     },
     "execution_count": 11,
     "metadata": {},
     "output_type": "execute_result"
    }
   ],
   "source": [
    "train_X_df.shape"
   ]
  },
  {
   "cell_type": "code",
   "execution_count": 12,
   "id": "635a49af",
   "metadata": {},
   "outputs": [
    {
     "data": {
      "text/plain": [
       "(2264,)"
      ]
     },
     "execution_count": 12,
     "metadata": {},
     "output_type": "execute_result"
    }
   ],
   "source": [
    "train_y_sr.shape"
   ]
  },
  {
   "cell_type": "code",
   "execution_count": 13,
   "id": "c1bcd19c",
   "metadata": {},
   "outputs": [
    {
     "data": {
      "text/plain": [
       "(647, 8)"
      ]
     },
     "execution_count": 13,
     "metadata": {},
     "output_type": "execute_result"
    }
   ],
   "source": [
    "val_X_df.shape"
   ]
  },
  {
   "cell_type": "code",
   "execution_count": 14,
   "id": "7fbf4d26",
   "metadata": {},
   "outputs": [
    {
     "data": {
      "text/plain": [
       "(647,)"
      ]
     },
     "execution_count": 14,
     "metadata": {},
     "output_type": "execute_result"
    }
   ],
   "source": [
    "val_y_sr.shape"
   ]
  },
  {
   "cell_type": "code",
   "execution_count": 15,
   "id": "e22e093b",
   "metadata": {},
   "outputs": [
    {
     "data": {
      "text/plain": [
       "(324, 8)"
      ]
     },
     "execution_count": 15,
     "metadata": {},
     "output_type": "execute_result"
    }
   ],
   "source": [
    "test_X_df.shape"
   ]
  },
  {
   "cell_type": "code",
   "execution_count": 16,
   "id": "01ae48e5",
   "metadata": {},
   "outputs": [
    {
     "data": {
      "text/plain": [
       "(324,)"
      ]
     },
     "execution_count": 16,
     "metadata": {},
     "output_type": "execute_result"
    }
   ],
   "source": [
    "test_y_sr.shape"
   ]
  },
  {
   "cell_type": "markdown",
   "id": "688a7b69",
   "metadata": {},
   "source": [
    "### 4.3 Khám phá dữ liệu (tập huấn luyện)"
   ]
  },
  {
   "cell_type": "markdown",
   "id": "f2a1fb94",
   "metadata": {},
   "source": [
    "##### Mỗi cột input hiện đang có kiểu dữ liệu gì? Có cột nào có kiểu dữ liệu chưa phù hợp để có thể xử lý tiếp không?"
   ]
  },
  {
   "cell_type": "code",
   "execution_count": 17,
   "id": "8706368f",
   "metadata": {},
   "outputs": [
    {
     "data": {
      "text/plain": [
       "co       float64\n",
       "no       float64\n",
       "no2      float64\n",
       "o3       float64\n",
       "so2      float64\n",
       "pm2_5    float64\n",
       "pm10     float64\n",
       "nh3      float64\n",
       "dtype: object"
      ]
     },
     "execution_count": 17,
     "metadata": {},
     "output_type": "execute_result"
    }
   ],
   "source": [
    "train_X_df.dtypes"
   ]
  },
  {
   "cell_type": "markdown",
   "id": "dcf57014",
   "metadata": {},
   "source": [
    "- Các cột đều có dữ liệu phù hợp"
   ]
  },
  {
   "cell_type": "markdown",
   "id": "bceb7639",
   "metadata": {},
   "source": [
    "#### Với mỗi cột input có kiểu dữ liệu dạng số, các giá trị được phân bố như thế nào?"
   ]
  },
  {
   "cell_type": "code",
   "execution_count": 18,
   "id": "4f5319ad",
   "metadata": {},
   "outputs": [
    {
     "data": {
      "text/html": [
       "<div>\n",
       "<style scoped>\n",
       "    .dataframe tbody tr th:only-of-type {\n",
       "        vertical-align: middle;\n",
       "    }\n",
       "\n",
       "    .dataframe tbody tr th {\n",
       "        vertical-align: top;\n",
       "    }\n",
       "\n",
       "    .dataframe thead th {\n",
       "        text-align: right;\n",
       "    }\n",
       "</style>\n",
       "<table border=\"1\" class=\"dataframe\">\n",
       "  <thead>\n",
       "    <tr style=\"text-align: right;\">\n",
       "      <th></th>\n",
       "      <th>co</th>\n",
       "      <th>no</th>\n",
       "      <th>no2</th>\n",
       "      <th>o3</th>\n",
       "      <th>so2</th>\n",
       "      <th>pm2_5</th>\n",
       "      <th>pm10</th>\n",
       "      <th>nh3</th>\n",
       "    </tr>\n",
       "  </thead>\n",
       "  <tbody>\n",
       "    <tr>\n",
       "      <th>missing_percentage</th>\n",
       "      <td>0.00</td>\n",
       "      <td>0.00</td>\n",
       "      <td>0.00</td>\n",
       "      <td>0.00</td>\n",
       "      <td>0.00</td>\n",
       "      <td>0.00</td>\n",
       "      <td>0.00</td>\n",
       "      <td>0.00</td>\n",
       "    </tr>\n",
       "    <tr>\n",
       "      <th>min</th>\n",
       "      <td>140.19</td>\n",
       "      <td>0.00</td>\n",
       "      <td>0.13</td>\n",
       "      <td>0.00</td>\n",
       "      <td>0.05</td>\n",
       "      <td>0.50</td>\n",
       "      <td>0.56</td>\n",
       "      <td>0.00</td>\n",
       "    </tr>\n",
       "    <tr>\n",
       "      <th>lower_quartile</th>\n",
       "      <td>185.20</td>\n",
       "      <td>0.00</td>\n",
       "      <td>0.50</td>\n",
       "      <td>35.40</td>\n",
       "      <td>0.20</td>\n",
       "      <td>9.10</td>\n",
       "      <td>22.10</td>\n",
       "      <td>0.40</td>\n",
       "    </tr>\n",
       "    <tr>\n",
       "      <th>median</th>\n",
       "      <td>217.00</td>\n",
       "      <td>0.00</td>\n",
       "      <td>0.90</td>\n",
       "      <td>68.70</td>\n",
       "      <td>0.40</td>\n",
       "      <td>14.30</td>\n",
       "      <td>39.70</td>\n",
       "      <td>0.70</td>\n",
       "    </tr>\n",
       "    <tr>\n",
       "      <th>upper_quartile</th>\n",
       "      <td>347.10</td>\n",
       "      <td>0.10</td>\n",
       "      <td>2.00</td>\n",
       "      <td>88.70</td>\n",
       "      <td>1.00</td>\n",
       "      <td>22.00</td>\n",
       "      <td>74.20</td>\n",
       "      <td>1.60</td>\n",
       "    </tr>\n",
       "    <tr>\n",
       "      <th>max</th>\n",
       "      <td>12390.14</td>\n",
       "      <td>658.04</td>\n",
       "      <td>175.48</td>\n",
       "      <td>217.44</td>\n",
       "      <td>534.06</td>\n",
       "      <td>1205.88</td>\n",
       "      <td>1395.92</td>\n",
       "      <td>19.25</td>\n",
       "    </tr>\n",
       "  </tbody>\n",
       "</table>\n",
       "</div>"
      ],
      "text/plain": [
       "                          co      no     no2      o3     so2    pm2_5  \\\n",
       "missing_percentage      0.00    0.00    0.00    0.00    0.00     0.00   \n",
       "min                   140.19    0.00    0.13    0.00    0.05     0.50   \n",
       "lower_quartile        185.20    0.00    0.50   35.40    0.20     9.10   \n",
       "median                217.00    0.00    0.90   68.70    0.40    14.30   \n",
       "upper_quartile        347.10    0.10    2.00   88.70    1.00    22.00   \n",
       "max                 12390.14  658.04  175.48  217.44  534.06  1205.88   \n",
       "\n",
       "                       pm10    nh3  \n",
       "missing_percentage     0.00   0.00  \n",
       "min                    0.56   0.00  \n",
       "lower_quartile        22.10   0.40  \n",
       "median                39.70   0.70  \n",
       "upper_quartile        74.20   1.60  \n",
       "max                 1395.92  19.25  "
      ]
     },
     "execution_count": 18,
     "metadata": {},
     "output_type": "execute_result"
    }
   ],
   "source": [
    "def missing_percentage(c):\n",
    "    return (c.isna().mean() * 100).round(1)\n",
    "def median(c):\n",
    "    return c.quantile(0.5).round(1)\n",
    "def lower_quartile(df):\n",
    "    return df.quantile(0.25).round(1)\n",
    "def upper_quartile(df):\n",
    "    return df.quantile(0.75).round(1)\n",
    "train_X_df.agg([missing_percentage, 'min',lower_quartile, median,upper_quartile, 'max'])"
   ]
  },
  {
   "cell_type": "markdown",
   "id": "63f1f62b",
   "metadata": {},
   "source": [
    "**Với mỗi cột input không có kiểu dữ liệu dạng số, các giá trị được phân bố như thế nào?**\n",
    "\n",
    "- Không có cột nào khác kiểu dữ liệu dạng số."
   ]
  },
  {
   "cell_type": "markdown",
   "id": "437a7bf5",
   "metadata": {},
   "source": [
    "### 4.4 Tiền xử lý"
   ]
  },
  {
   "cell_type": "markdown",
   "id": "77e29f71",
   "metadata": {},
   "source": [
    "- Với các cột dạng số, ta sẽ điền giá trị thiếu bằng giá trị mean của cột. Với *tất cả* các cột dạng số trong tập huấn luyện, ta đều cần tính mean, vì ta không biết được cột nào sẽ bị thiếu giá trị khi dự đoán với các véc-tơ input mới. "
   ]
  },
  {
   "cell_type": "markdown",
   "id": "430eb6dd",
   "metadata": {},
   "source": [
    "- Cuối cùng, khi tất cả các cột đã được điền giá trị thiếu và đã có dạng số, ta sẽ tiến hành chuẩn hóa bằng cách trừ đi mean và chia cho độ lệch chuẩn của cột để giúp cho các thuật toán cực tiểu hóa như Gradient Descent, LBFGS, ... hội tụ nhanh hơn."
   ]
  },
  {
   "cell_type": "code",
   "execution_count": 19,
   "id": "60016329",
   "metadata": {},
   "outputs": [],
   "source": [
    "cols=list(train_X_df.columns)\n",
    "temp=make_column_transformer(\n",
    "        (SimpleImputer(strategy='mean'),cols))\n",
    "preprocess_pipeline=make_pipeline(temp,StandardScaler())\n",
    "preprocessed_train_X=preprocess_pipeline.fit_transform(train_X_df)"
   ]
  },
  {
   "cell_type": "code",
   "execution_count": 20,
   "id": "47e4cc94",
   "metadata": {},
   "outputs": [
    {
     "data": {
      "text/html": [
       "<style>#sk-7cf6fc19-8777-4cd8-a685-03cc11fc55b9 {color: black;background-color: white;}#sk-7cf6fc19-8777-4cd8-a685-03cc11fc55b9 pre{padding: 0;}#sk-7cf6fc19-8777-4cd8-a685-03cc11fc55b9 div.sk-toggleable {background-color: white;}#sk-7cf6fc19-8777-4cd8-a685-03cc11fc55b9 label.sk-toggleable__label {cursor: pointer;display: block;width: 100%;margin-bottom: 0;padding: 0.2em 0.3em;box-sizing: border-box;text-align: center;}#sk-7cf6fc19-8777-4cd8-a685-03cc11fc55b9 div.sk-toggleable__content {max-height: 0;max-width: 0;overflow: hidden;text-align: left;background-color: #f0f8ff;}#sk-7cf6fc19-8777-4cd8-a685-03cc11fc55b9 div.sk-toggleable__content pre {margin: 0.2em;color: black;border-radius: 0.25em;background-color: #f0f8ff;}#sk-7cf6fc19-8777-4cd8-a685-03cc11fc55b9 input.sk-toggleable__control:checked~div.sk-toggleable__content {max-height: 200px;max-width: 100%;overflow: auto;}#sk-7cf6fc19-8777-4cd8-a685-03cc11fc55b9 div.sk-estimator input.sk-toggleable__control:checked~label.sk-toggleable__label {background-color: #d4ebff;}#sk-7cf6fc19-8777-4cd8-a685-03cc11fc55b9 div.sk-label input.sk-toggleable__control:checked~label.sk-toggleable__label {background-color: #d4ebff;}#sk-7cf6fc19-8777-4cd8-a685-03cc11fc55b9 input.sk-hidden--visually {border: 0;clip: rect(1px 1px 1px 1px);clip: rect(1px, 1px, 1px, 1px);height: 1px;margin: -1px;overflow: hidden;padding: 0;position: absolute;width: 1px;}#sk-7cf6fc19-8777-4cd8-a685-03cc11fc55b9 div.sk-estimator {font-family: monospace;background-color: #f0f8ff;margin: 0.25em 0.25em;border: 1px dotted black;border-radius: 0.25em;box-sizing: border-box;}#sk-7cf6fc19-8777-4cd8-a685-03cc11fc55b9 div.sk-estimator:hover {background-color: #d4ebff;}#sk-7cf6fc19-8777-4cd8-a685-03cc11fc55b9 div.sk-parallel-item::after {content: \"\";width: 100%;border-bottom: 1px solid gray;flex-grow: 1;}#sk-7cf6fc19-8777-4cd8-a685-03cc11fc55b9 div.sk-label:hover label.sk-toggleable__label {background-color: #d4ebff;}#sk-7cf6fc19-8777-4cd8-a685-03cc11fc55b9 div.sk-serial::before {content: \"\";position: absolute;border-left: 1px solid gray;box-sizing: border-box;top: 2em;bottom: 0;left: 50%;}#sk-7cf6fc19-8777-4cd8-a685-03cc11fc55b9 div.sk-serial {display: flex;flex-direction: column;align-items: center;background-color: white;}#sk-7cf6fc19-8777-4cd8-a685-03cc11fc55b9 div.sk-item {z-index: 1;}#sk-7cf6fc19-8777-4cd8-a685-03cc11fc55b9 div.sk-parallel {display: flex;align-items: stretch;justify-content: center;background-color: white;}#sk-7cf6fc19-8777-4cd8-a685-03cc11fc55b9 div.sk-parallel-item {display: flex;flex-direction: column;position: relative;background-color: white;}#sk-7cf6fc19-8777-4cd8-a685-03cc11fc55b9 div.sk-parallel-item:first-child::after {align-self: flex-end;width: 50%;}#sk-7cf6fc19-8777-4cd8-a685-03cc11fc55b9 div.sk-parallel-item:last-child::after {align-self: flex-start;width: 50%;}#sk-7cf6fc19-8777-4cd8-a685-03cc11fc55b9 div.sk-parallel-item:only-child::after {width: 0;}#sk-7cf6fc19-8777-4cd8-a685-03cc11fc55b9 div.sk-dashed-wrapped {border: 1px dashed gray;margin: 0.2em;box-sizing: border-box;padding-bottom: 0.1em;background-color: white;position: relative;}#sk-7cf6fc19-8777-4cd8-a685-03cc11fc55b9 div.sk-label label {font-family: monospace;font-weight: bold;background-color: white;display: inline-block;line-height: 1.2em;}#sk-7cf6fc19-8777-4cd8-a685-03cc11fc55b9 div.sk-label-container {position: relative;z-index: 2;text-align: center;}#sk-7cf6fc19-8777-4cd8-a685-03cc11fc55b9 div.sk-container {display: inline-block;position: relative;}</style><div id=\"sk-7cf6fc19-8777-4cd8-a685-03cc11fc55b9\" class\"sk-top-container\"><div class=\"sk-container\"><div class=\"sk-item sk-dashed-wrapped\"><div class=\"sk-label-container\"><div class=\"sk-label sk-toggleable\"><input class=\"sk-toggleable__control sk-hidden--visually\" id=\"12fd6430-9415-480b-9806-83048f8dd603\" type=\"checkbox\" ><label class=\"sk-toggleable__label\" for=\"12fd6430-9415-480b-9806-83048f8dd603\">Pipeline</label><div class=\"sk-toggleable__content\"><pre>Pipeline(steps=[('columntransformer',\n",
       "                 ColumnTransformer(transformers=[('simpleimputer',\n",
       "                                                  SimpleImputer(),\n",
       "                                                  ['co', 'no', 'no2', 'o3',\n",
       "                                                   'so2', 'pm2_5', 'pm10',\n",
       "                                                   'nh3'])])),\n",
       "                ('standardscaler', StandardScaler())])</pre></div></div></div><div class=\"sk-serial\"><div class=\"sk-item sk-dashed-wrapped\"><div class=\"sk-label-container\"><div class=\"sk-label sk-toggleable\"><input class=\"sk-toggleable__control sk-hidden--visually\" id=\"42833434-53a4-470b-bf6d-b94bce75a048\" type=\"checkbox\" ><label class=\"sk-toggleable__label\" for=\"42833434-53a4-470b-bf6d-b94bce75a048\">columntransformer: ColumnTransformer</label><div class=\"sk-toggleable__content\"><pre>ColumnTransformer(transformers=[('simpleimputer', SimpleImputer(),\n",
       "                                 ['co', 'no', 'no2', 'o3', 'so2', 'pm2_5',\n",
       "                                  'pm10', 'nh3'])])</pre></div></div></div><div class=\"sk-parallel\"><div class=\"sk-parallel-item\"><div class=\"sk-item\"><div class=\"sk-label-container\"><div class=\"sk-label sk-toggleable\"><input class=\"sk-toggleable__control sk-hidden--visually\" id=\"b97971b3-d85c-4f35-aaa8-e905a9d7a6c3\" type=\"checkbox\" ><label class=\"sk-toggleable__label\" for=\"b97971b3-d85c-4f35-aaa8-e905a9d7a6c3\">simpleimputer</label><div class=\"sk-toggleable__content\"><pre>['co', 'no', 'no2', 'o3', 'so2', 'pm2_5', 'pm10', 'nh3']</pre></div></div></div><div class=\"sk-serial\"><div class=\"sk-item\"><div class=\"sk-estimator sk-toggleable\"><input class=\"sk-toggleable__control sk-hidden--visually\" id=\"3fc5dfc9-ee7f-41fe-8111-205a057ebc84\" type=\"checkbox\" ><label class=\"sk-toggleable__label\" for=\"3fc5dfc9-ee7f-41fe-8111-205a057ebc84\">SimpleImputer</label><div class=\"sk-toggleable__content\"><pre>SimpleImputer()</pre></div></div></div></div></div></div></div></div><div class=\"sk-item\"><div class=\"sk-estimator sk-toggleable\"><input class=\"sk-toggleable__control sk-hidden--visually\" id=\"116998c1-ba27-4d56-ab65-a1287f5bd060\" type=\"checkbox\" ><label class=\"sk-toggleable__label\" for=\"116998c1-ba27-4d56-ab65-a1287f5bd060\">StandardScaler</label><div class=\"sk-toggleable__content\"><pre>StandardScaler()</pre></div></div></div></div></div></div></div>"
      ],
      "text/plain": [
       "Pipeline(steps=[('columntransformer',\n",
       "                 ColumnTransformer(transformers=[('simpleimputer',\n",
       "                                                  SimpleImputer(),\n",
       "                                                  ['co', 'no', 'no2', 'o3',\n",
       "                                                   'so2', 'pm2_5', 'pm10',\n",
       "                                                   'nh3'])])),\n",
       "                ('standardscaler', StandardScaler())])"
      ]
     },
     "execution_count": 20,
     "metadata": {},
     "output_type": "execute_result"
    }
   ],
   "source": [
    "preprocess_pipeline"
   ]
  },
  {
   "cell_type": "markdown",
   "id": "c3243b62",
   "metadata": {},
   "source": [
    "# 5. Mô hình hóa"
   ]
  },
  {
   "cell_type": "markdown",
   "id": "806e4eb7",
   "metadata": {},
   "source": [
    "### 5.1 Mô hình MLP- Classifier"
   ]
  },
  {
   "cell_type": "markdown",
   "id": "ddaa164c",
   "metadata": {},
   "source": [
    "- Ta sẽ sử dụng mô hình MLP để phân lớp (với các siêu tham số `hidden_layer_sizes=(20), activation='relu', solver='adam', random_state=0, max_iter=600`)\n",
    "- Chọn activation=relu vì hàm relu phổ biến hiện nay và sẽ tính toán nhanh hơn hàm tanh và logistic.\n",
    "- Chọn solver = adam vì dữ liệu trên các tập dữ liệu tương đối lớn."
   ]
  },
  {
   "cell_type": "code",
   "execution_count": 21,
   "id": "77bdf5d1",
   "metadata": {},
   "outputs": [
    {
     "data": {
      "text/plain": [
       "'Finish!'"
      ]
     },
     "execution_count": 21,
     "metadata": {},
     "output_type": "execute_result"
    }
   ],
   "source": [
    "neural_net_model = MLPClassifier(hidden_layer_sizes=(20,), activation='relu',\\\n",
    "                                 solver = 'adam', random_state = 0, max_iter = 2500)\n",
    "\n",
    "full_pipeline = make_pipeline(preprocess_pipeline, neural_net_model)\n",
    "\n",
    "train_errs = []\n",
    "val_errs = []\n",
    "alphas = [0.00001, 0.0001, 0.001, 0.005, 0.01, 0.1, 0.5, 1, 10]\n",
    "\n",
    "for alpha in alphas:\n",
    "    full_pipeline.set_params(mlpclassifier__alpha = alpha)\n",
    "\n",
    "    full_pipeline.fit(train_X_df, train_y_sr)\n",
    "    train_errs.append((1 - full_pipeline.score(train_X_df, train_y_sr)) * 100)\n",
    "    val_errs.append((1 - full_pipeline.score(val_X_df, val_y_sr)) * 100)\n",
    "\n",
    "\n",
    "'Finish!'"
   ]
  },
  {
   "cell_type": "code",
   "execution_count": 22,
   "id": "7514e490",
   "metadata": {},
   "outputs": [
    {
     "data": {
      "text/html": [
       "<style>#sk-f4b07061-ff28-49de-a287-314533521526 {color: black;background-color: white;}#sk-f4b07061-ff28-49de-a287-314533521526 pre{padding: 0;}#sk-f4b07061-ff28-49de-a287-314533521526 div.sk-toggleable {background-color: white;}#sk-f4b07061-ff28-49de-a287-314533521526 label.sk-toggleable__label {cursor: pointer;display: block;width: 100%;margin-bottom: 0;padding: 0.2em 0.3em;box-sizing: border-box;text-align: center;}#sk-f4b07061-ff28-49de-a287-314533521526 div.sk-toggleable__content {max-height: 0;max-width: 0;overflow: hidden;text-align: left;background-color: #f0f8ff;}#sk-f4b07061-ff28-49de-a287-314533521526 div.sk-toggleable__content pre {margin: 0.2em;color: black;border-radius: 0.25em;background-color: #f0f8ff;}#sk-f4b07061-ff28-49de-a287-314533521526 input.sk-toggleable__control:checked~div.sk-toggleable__content {max-height: 200px;max-width: 100%;overflow: auto;}#sk-f4b07061-ff28-49de-a287-314533521526 div.sk-estimator input.sk-toggleable__control:checked~label.sk-toggleable__label {background-color: #d4ebff;}#sk-f4b07061-ff28-49de-a287-314533521526 div.sk-label input.sk-toggleable__control:checked~label.sk-toggleable__label {background-color: #d4ebff;}#sk-f4b07061-ff28-49de-a287-314533521526 input.sk-hidden--visually {border: 0;clip: rect(1px 1px 1px 1px);clip: rect(1px, 1px, 1px, 1px);height: 1px;margin: -1px;overflow: hidden;padding: 0;position: absolute;width: 1px;}#sk-f4b07061-ff28-49de-a287-314533521526 div.sk-estimator {font-family: monospace;background-color: #f0f8ff;margin: 0.25em 0.25em;border: 1px dotted black;border-radius: 0.25em;box-sizing: border-box;}#sk-f4b07061-ff28-49de-a287-314533521526 div.sk-estimator:hover {background-color: #d4ebff;}#sk-f4b07061-ff28-49de-a287-314533521526 div.sk-parallel-item::after {content: \"\";width: 100%;border-bottom: 1px solid gray;flex-grow: 1;}#sk-f4b07061-ff28-49de-a287-314533521526 div.sk-label:hover label.sk-toggleable__label {background-color: #d4ebff;}#sk-f4b07061-ff28-49de-a287-314533521526 div.sk-serial::before {content: \"\";position: absolute;border-left: 1px solid gray;box-sizing: border-box;top: 2em;bottom: 0;left: 50%;}#sk-f4b07061-ff28-49de-a287-314533521526 div.sk-serial {display: flex;flex-direction: column;align-items: center;background-color: white;}#sk-f4b07061-ff28-49de-a287-314533521526 div.sk-item {z-index: 1;}#sk-f4b07061-ff28-49de-a287-314533521526 div.sk-parallel {display: flex;align-items: stretch;justify-content: center;background-color: white;}#sk-f4b07061-ff28-49de-a287-314533521526 div.sk-parallel-item {display: flex;flex-direction: column;position: relative;background-color: white;}#sk-f4b07061-ff28-49de-a287-314533521526 div.sk-parallel-item:first-child::after {align-self: flex-end;width: 50%;}#sk-f4b07061-ff28-49de-a287-314533521526 div.sk-parallel-item:last-child::after {align-self: flex-start;width: 50%;}#sk-f4b07061-ff28-49de-a287-314533521526 div.sk-parallel-item:only-child::after {width: 0;}#sk-f4b07061-ff28-49de-a287-314533521526 div.sk-dashed-wrapped {border: 1px dashed gray;margin: 0.2em;box-sizing: border-box;padding-bottom: 0.1em;background-color: white;position: relative;}#sk-f4b07061-ff28-49de-a287-314533521526 div.sk-label label {font-family: monospace;font-weight: bold;background-color: white;display: inline-block;line-height: 1.2em;}#sk-f4b07061-ff28-49de-a287-314533521526 div.sk-label-container {position: relative;z-index: 2;text-align: center;}#sk-f4b07061-ff28-49de-a287-314533521526 div.sk-container {display: inline-block;position: relative;}</style><div id=\"sk-f4b07061-ff28-49de-a287-314533521526\" class\"sk-top-container\"><div class=\"sk-container\"><div class=\"sk-item sk-dashed-wrapped\"><div class=\"sk-label-container\"><div class=\"sk-label sk-toggleable\"><input class=\"sk-toggleable__control sk-hidden--visually\" id=\"78162758-8958-4bdb-92d0-3ca754a59154\" type=\"checkbox\" ><label class=\"sk-toggleable__label\" for=\"78162758-8958-4bdb-92d0-3ca754a59154\">Pipeline</label><div class=\"sk-toggleable__content\"><pre>Pipeline(steps=[('pipeline',\n",
       "                 Pipeline(steps=[('columntransformer',\n",
       "                                  ColumnTransformer(transformers=[('simpleimputer',\n",
       "                                                                   SimpleImputer(),\n",
       "                                                                   ['co', 'no',\n",
       "                                                                    'no2', 'o3',\n",
       "                                                                    'so2',\n",
       "                                                                    'pm2_5',\n",
       "                                                                    'pm10',\n",
       "                                                                    'nh3'])])),\n",
       "                                 ('standardscaler', StandardScaler())])),\n",
       "                ('mlpclassifier',\n",
       "                 MLPClassifier(alpha=10, hidden_layer_sizes=(20,),\n",
       "                               max_iter=2500, random_state=0))])</pre></div></div></div><div class=\"sk-serial\"><div class=\"sk-item\"><div class=\"sk-label-container\"><div class=\"sk-label sk-toggleable\"><input class=\"sk-toggleable__control sk-hidden--visually\" id=\"96658915-8130-4902-8b83-82fa314544e8\" type=\"checkbox\" ><label class=\"sk-toggleable__label\" for=\"96658915-8130-4902-8b83-82fa314544e8\">pipeline: Pipeline</label><div class=\"sk-toggleable__content\"><pre>Pipeline(steps=[('columntransformer',\n",
       "                 ColumnTransformer(transformers=[('simpleimputer',\n",
       "                                                  SimpleImputer(),\n",
       "                                                  ['co', 'no', 'no2', 'o3',\n",
       "                                                   'so2', 'pm2_5', 'pm10',\n",
       "                                                   'nh3'])])),\n",
       "                ('standardscaler', StandardScaler())])</pre></div></div></div><div class=\"sk-serial\"><div class=\"sk-item sk-dashed-wrapped\"><div class=\"sk-label-container\"><div class=\"sk-label sk-toggleable\"><input class=\"sk-toggleable__control sk-hidden--visually\" id=\"f0588e6b-b5ef-4884-b483-299b04f1bce0\" type=\"checkbox\" ><label class=\"sk-toggleable__label\" for=\"f0588e6b-b5ef-4884-b483-299b04f1bce0\">columntransformer: ColumnTransformer</label><div class=\"sk-toggleable__content\"><pre>ColumnTransformer(transformers=[('simpleimputer', SimpleImputer(),\n",
       "                                 ['co', 'no', 'no2', 'o3', 'so2', 'pm2_5',\n",
       "                                  'pm10', 'nh3'])])</pre></div></div></div><div class=\"sk-parallel\"><div class=\"sk-parallel-item\"><div class=\"sk-item\"><div class=\"sk-label-container\"><div class=\"sk-label sk-toggleable\"><input class=\"sk-toggleable__control sk-hidden--visually\" id=\"4ccb62dd-549e-4465-b350-afdb550ca653\" type=\"checkbox\" ><label class=\"sk-toggleable__label\" for=\"4ccb62dd-549e-4465-b350-afdb550ca653\">simpleimputer</label><div class=\"sk-toggleable__content\"><pre>['co', 'no', 'no2', 'o3', 'so2', 'pm2_5', 'pm10', 'nh3']</pre></div></div></div><div class=\"sk-serial\"><div class=\"sk-item\"><div class=\"sk-estimator sk-toggleable\"><input class=\"sk-toggleable__control sk-hidden--visually\" id=\"fcfde462-912b-4324-a70b-f7ad79174991\" type=\"checkbox\" ><label class=\"sk-toggleable__label\" for=\"fcfde462-912b-4324-a70b-f7ad79174991\">SimpleImputer</label><div class=\"sk-toggleable__content\"><pre>SimpleImputer()</pre></div></div></div></div></div></div></div></div><div class=\"sk-item\"><div class=\"sk-estimator sk-toggleable\"><input class=\"sk-toggleable__control sk-hidden--visually\" id=\"43f73bfa-fd06-4f97-8a5b-64291a9c687a\" type=\"checkbox\" ><label class=\"sk-toggleable__label\" for=\"43f73bfa-fd06-4f97-8a5b-64291a9c687a\">StandardScaler</label><div class=\"sk-toggleable__content\"><pre>StandardScaler()</pre></div></div></div></div></div><div class=\"sk-item\"><div class=\"sk-estimator sk-toggleable\"><input class=\"sk-toggleable__control sk-hidden--visually\" id=\"937e52ea-39ea-47a6-9f24-f32d691aa8ae\" type=\"checkbox\" ><label class=\"sk-toggleable__label\" for=\"937e52ea-39ea-47a6-9f24-f32d691aa8ae\">MLPClassifier</label><div class=\"sk-toggleable__content\"><pre>MLPClassifier(alpha=10, hidden_layer_sizes=(20,), max_iter=2500, random_state=0)</pre></div></div></div></div></div></div></div>"
      ],
      "text/plain": [
       "Pipeline(steps=[('pipeline',\n",
       "                 Pipeline(steps=[('columntransformer',\n",
       "                                  ColumnTransformer(transformers=[('simpleimputer',\n",
       "                                                                   SimpleImputer(),\n",
       "                                                                   ['co', 'no',\n",
       "                                                                    'no2', 'o3',\n",
       "                                                                    'so2',\n",
       "                                                                    'pm2_5',\n",
       "                                                                    'pm10',\n",
       "                                                                    'nh3'])])),\n",
       "                                 ('standardscaler', StandardScaler())])),\n",
       "                ('mlpclassifier',\n",
       "                 MLPClassifier(alpha=10, hidden_layer_sizes=(20,),\n",
       "                               max_iter=2500, random_state=0))])"
      ]
     },
     "execution_count": 22,
     "metadata": {},
     "output_type": "execute_result"
    }
   ],
   "source": [
    "full_pipeline"
   ]
  },
  {
   "cell_type": "markdown",
   "id": "c770642d",
   "metadata": {},
   "source": [
    "#### Độ lỗi trên tập train"
   ]
  },
  {
   "cell_type": "code",
   "execution_count": 23,
   "id": "106cc871",
   "metadata": {},
   "outputs": [
    {
     "data": {
      "text/plain": [
       "Text(0, 0.5, 'alpha')"
      ]
     },
     "execution_count": 23,
     "metadata": {},
     "output_type": "execute_result"
    },
    {
     "data": {
      "image/png": "[encoded data removed]",
      "text/plain": [
       "<Figure size 432x288 with 1 Axes>"
      ]
     },
     "metadata": {
      "needs_background": "light"
     },
     "output_type": "display_data"
    }
   ],
   "source": [
    "ax = pd.Series(train_errs, index = alphas).plot.barh()\n",
    "ax.set_xlabel('Độ lỗi trên tập train (%)')\n",
    "ax.set_ylabel('alpha')"
   ]
  },
  {
   "cell_type": "markdown",
   "id": "518782dc",
   "metadata": {},
   "source": [
    "#### Độ lỗi trên tập valid"
   ]
  },
  {
   "cell_type": "code",
   "execution_count": 24,
   "id": "f93c5bf5",
   "metadata": {},
   "outputs": [
    {
     "data": {
      "text/plain": [
       "Text(0, 0.5, 'alpha')"
      ]
     },
     "execution_count": 24,
     "metadata": {},
     "output_type": "execute_result"
    },
    {
     "data": {
      "image/png": "[encoded data removed]",
      "text/plain": [
       "<Figure size 432x288 with 1 Axes>"
      ]
     },
     "metadata": {
      "needs_background": "light"
     },
     "output_type": "display_data"
    }
   ],
   "source": [
    "bx = pd.Series(val_errs, index = alphas).plot.barh()\n",
    "bx.set_xlabel('Độ lỗi trên tập valid (%)')\n",
    "bx.set_ylabel('alpha')"
   ]
  },
  {
   "cell_type": "markdown",
   "id": "b0adcb4d",
   "metadata": {},
   "source": [
    "Độ lỗi trên tập valid khi alpha đi từ 0.00001 - 0.01 tăng rồi lại giảm, nên tiếp  tục chia nhỏ miền này để tìm alpha tốt nhất"
   ]
  },
  {
   "cell_type": "code",
   "execution_count": 25,
   "id": "4483b669",
   "metadata": {},
   "outputs": [],
   "source": [
    "x=np.arange(0.00001,0.0001,0.00001).round(5).tolist()\n",
    "y=np.arange(0.0001,0.001,0.0001).round(4).tolist()\n",
    "z=np.arange(0.001,0.01,0.001).round(3).tolist()\n",
    "\n",
    "alphas = x + y + z + [0.01]\n",
    "\n",
    "train_errs = []\n",
    "val_errs = []\n",
    "best_val_err = float('inf')\n",
    "best_alpha = None\n",
    "for alpha in alphas:\n",
    "    full_pipeline.set_params(mlpclassifier__alpha = alpha)\n",
    "    full_pipeline.fit(train_X_df, train_y_sr)\n",
    "\n",
    "    train_errs.append((1 - full_pipeline.score(train_X_df, train_y_sr)) * 100)\n",
    "    val_errs.append((1 - full_pipeline.score(val_X_df, val_y_sr)) * 100)\n",
    "\n",
    "best_val_err = min(val_errs)\n",
    "index = val_errs.index(min(val_errs))\n",
    "best_alpha = alphas[index]"
   ]
  },
  {
   "cell_type": "code",
   "execution_count": 26,
   "id": "b4193b78",
   "metadata": {},
   "outputs": [
    {
     "data": {
      "text/plain": [
       "Text(0, 0.5, 'alpha')"
      ]
     },
     "execution_count": 26,
     "metadata": {},
     "output_type": "execute_result"
    },
    {
     "data": {
      "image/png": "[encoded data removed]",
      "text/plain": [
       "<Figure size 432x288 with 1 Axes>"
      ]
     },
     "metadata": {
      "needs_background": "light"
     },
     "output_type": "display_data"
    }
   ],
   "source": [
    "#Độ lỗi tập train\n",
    "ax = pd.Series(train_errs, index = alphas).plot.barh()\n",
    "ax.set_xlabel('Độ lỗi trên tập train (%)')\n",
    "ax.set_ylabel('alpha')"
   ]
  },
  {
   "cell_type": "code",
   "execution_count": 27,
   "id": "cb6ac180",
   "metadata": {},
   "outputs": [
    {
     "data": {
      "text/plain": [
       "Text(0, 0.5, 'alpha')"
      ]
     },
     "execution_count": 27,
     "metadata": {},
     "output_type": "execute_result"
    },
    {
     "data": {
      "image/png": "[encoded data removed]",
      "text/plain": [
       "<Figure size 432x288 with 1 Axes>"
      ]
     },
     "metadata": {
      "needs_background": "light"
     },
     "output_type": "display_data"
    }
   ],
   "source": [
    "#Độ lỗi tập valid\n",
    "bx = pd.Series(val_errs, index = alphas).plot.barh()\n",
    "bx.set_xlabel('Độ lỗi trên tập valid (%)')\n",
    "bx.set_ylabel('alpha')"
   ]
  },
  {
   "cell_type": "markdown",
   "id": "f1b07afd",
   "metadata": {},
   "source": [
    "#### Độ lỗi nhỏ nhất trên tập valid và alpha tốt nhất"
   ]
  },
  {
   "cell_type": "code",
   "execution_count": 28,
   "id": "727befbe",
   "metadata": {},
   "outputs": [
    {
     "name": "stdout",
     "output_type": "stream",
     "text": [
      "Best valid err:  5.56 %\n",
      "\n",
      "Best alpha:  2e-05\n"
     ]
    }
   ],
   "source": [
    "print('Best valid err: ', best_val_err.round(2), '%')\n",
    "print()\n",
    "print('Best alpha: ',best_alpha)"
   ]
  },
  {
   "cell_type": "markdown",
   "id": "e07ea1ea",
   "metadata": {},
   "source": [
    "Cuối cùng, huấn luyện lại `full_pipeline` trên `X_df` và `y_sr` (tập huấn luyện + tập validation) với `best_alpha` tìm được ở trên để ra được mô hình cụ thể cuối cùng."
   ]
  },
  {
   "cell_type": "code",
   "execution_count": 29,
   "id": "83d7133f",
   "metadata": {},
   "outputs": [
    {
     "data": {
      "text/html": [
       "<style>#sk-b955672f-bc2e-409b-adef-f3f8a7ec9600 {color: black;background-color: white;}#sk-b955672f-bc2e-409b-adef-f3f8a7ec9600 pre{padding: 0;}#sk-b955672f-bc2e-409b-adef-f3f8a7ec9600 div.sk-toggleable {background-color: white;}#sk-b955672f-bc2e-409b-adef-f3f8a7ec9600 label.sk-toggleable__label {cursor: pointer;display: block;width: 100%;margin-bottom: 0;padding: 0.2em 0.3em;box-sizing: border-box;text-align: center;}#sk-b955672f-bc2e-409b-adef-f3f8a7ec9600 div.sk-toggleable__content {max-height: 0;max-width: 0;overflow: hidden;text-align: left;background-color: #f0f8ff;}#sk-b955672f-bc2e-409b-adef-f3f8a7ec9600 div.sk-toggleable__content pre {margin: 0.2em;color: black;border-radius: 0.25em;background-color: #f0f8ff;}#sk-b955672f-bc2e-409b-adef-f3f8a7ec9600 input.sk-toggleable__control:checked~div.sk-toggleable__content {max-height: 200px;max-width: 100%;overflow: auto;}#sk-b955672f-bc2e-409b-adef-f3f8a7ec9600 div.sk-estimator input.sk-toggleable__control:checked~label.sk-toggleable__label {background-color: #d4ebff;}#sk-b955672f-bc2e-409b-adef-f3f8a7ec9600 div.sk-label input.sk-toggleable__control:checked~label.sk-toggleable__label {background-color: #d4ebff;}#sk-b955672f-bc2e-409b-adef-f3f8a7ec9600 input.sk-hidden--visually {border: 0;clip: rect(1px 1px 1px 1px);clip: rect(1px, 1px, 1px, 1px);height: 1px;margin: -1px;overflow: hidden;padding: 0;position: absolute;width: 1px;}#sk-b955672f-bc2e-409b-adef-f3f8a7ec9600 div.sk-estimator {font-family: monospace;background-color: #f0f8ff;margin: 0.25em 0.25em;border: 1px dotted black;border-radius: 0.25em;box-sizing: border-box;}#sk-b955672f-bc2e-409b-adef-f3f8a7ec9600 div.sk-estimator:hover {background-color: #d4ebff;}#sk-b955672f-bc2e-409b-adef-f3f8a7ec9600 div.sk-parallel-item::after {content: \"\";width: 100%;border-bottom: 1px solid gray;flex-grow: 1;}#sk-b955672f-bc2e-409b-adef-f3f8a7ec9600 div.sk-label:hover label.sk-toggleable__label {background-color: #d4ebff;}#sk-b955672f-bc2e-409b-adef-f3f8a7ec9600 div.sk-serial::before {content: \"\";position: absolute;border-left: 1px solid gray;box-sizing: border-box;top: 2em;bottom: 0;left: 50%;}#sk-b955672f-bc2e-409b-adef-f3f8a7ec9600 div.sk-serial {display: flex;flex-direction: column;align-items: center;background-color: white;}#sk-b955672f-bc2e-409b-adef-f3f8a7ec9600 div.sk-item {z-index: 1;}#sk-b955672f-bc2e-409b-adef-f3f8a7ec9600 div.sk-parallel {display: flex;align-items: stretch;justify-content: center;background-color: white;}#sk-b955672f-bc2e-409b-adef-f3f8a7ec9600 div.sk-parallel-item {display: flex;flex-direction: column;position: relative;background-color: white;}#sk-b955672f-bc2e-409b-adef-f3f8a7ec9600 div.sk-parallel-item:first-child::after {align-self: flex-end;width: 50%;}#sk-b955672f-bc2e-409b-adef-f3f8a7ec9600 div.sk-parallel-item:last-child::after {align-self: flex-start;width: 50%;}#sk-b955672f-bc2e-409b-adef-f3f8a7ec9600 div.sk-parallel-item:only-child::after {width: 0;}#sk-b955672f-bc2e-409b-adef-f3f8a7ec9600 div.sk-dashed-wrapped {border: 1px dashed gray;margin: 0.2em;box-sizing: border-box;padding-bottom: 0.1em;background-color: white;position: relative;}#sk-b955672f-bc2e-409b-adef-f3f8a7ec9600 div.sk-label label {font-family: monospace;font-weight: bold;background-color: white;display: inline-block;line-height: 1.2em;}#sk-b955672f-bc2e-409b-adef-f3f8a7ec9600 div.sk-label-container {position: relative;z-index: 2;text-align: center;}#sk-b955672f-bc2e-409b-adef-f3f8a7ec9600 div.sk-container {display: inline-block;position: relative;}</style><div id=\"sk-b955672f-bc2e-409b-adef-f3f8a7ec9600\" class\"sk-top-container\"><div class=\"sk-container\"><div class=\"sk-item sk-dashed-wrapped\"><div class=\"sk-label-container\"><div class=\"sk-label sk-toggleable\"><input class=\"sk-toggleable__control sk-hidden--visually\" id=\"efc4770e-cb31-426b-b2cd-3f2e3b79b4be\" type=\"checkbox\" ><label class=\"sk-toggleable__label\" for=\"efc4770e-cb31-426b-b2cd-3f2e3b79b4be\">Pipeline</label><div class=\"sk-toggleable__content\"><pre>Pipeline(steps=[('pipeline',\n",
       "                 Pipeline(steps=[('columntransformer',\n",
       "                                  ColumnTransformer(transformers=[('simpleimputer',\n",
       "                                                                   SimpleImputer(),\n",
       "                                                                   ['co', 'no',\n",
       "                                                                    'no2', 'o3',\n",
       "                                                                    'so2',\n",
       "                                                                    'pm2_5',\n",
       "                                                                    'pm10',\n",
       "                                                                    'nh3'])])),\n",
       "                                 ('standardscaler', StandardScaler())])),\n",
       "                ('mlpclassifier',\n",
       "                 MLPClassifier(alpha=2e-05, hidden_layer_sizes=(20,),\n",
       "                               max_iter=2500, random_state=0))])</pre></div></div></div><div class=\"sk-serial\"><div class=\"sk-item\"><div class=\"sk-label-container\"><div class=\"sk-label sk-toggleable\"><input class=\"sk-toggleable__control sk-hidden--visually\" id=\"7177ac32-a714-43fd-8063-7f3e8b70a816\" type=\"checkbox\" ><label class=\"sk-toggleable__label\" for=\"7177ac32-a714-43fd-8063-7f3e8b70a816\">pipeline: Pipeline</label><div class=\"sk-toggleable__content\"><pre>Pipeline(steps=[('columntransformer',\n",
       "                 ColumnTransformer(transformers=[('simpleimputer',\n",
       "                                                  SimpleImputer(),\n",
       "                                                  ['co', 'no', 'no2', 'o3',\n",
       "                                                   'so2', 'pm2_5', 'pm10',\n",
       "                                                   'nh3'])])),\n",
       "                ('standardscaler', StandardScaler())])</pre></div></div></div><div class=\"sk-serial\"><div class=\"sk-item sk-dashed-wrapped\"><div class=\"sk-label-container\"><div class=\"sk-label sk-toggleable\"><input class=\"sk-toggleable__control sk-hidden--visually\" id=\"13603040-202d-455d-bf16-9ceb6619b7d2\" type=\"checkbox\" ><label class=\"sk-toggleable__label\" for=\"13603040-202d-455d-bf16-9ceb6619b7d2\">columntransformer: ColumnTransformer</label><div class=\"sk-toggleable__content\"><pre>ColumnTransformer(transformers=[('simpleimputer', SimpleImputer(),\n",
       "                                 ['co', 'no', 'no2', 'o3', 'so2', 'pm2_5',\n",
       "                                  'pm10', 'nh3'])])</pre></div></div></div><div class=\"sk-parallel\"><div class=\"sk-parallel-item\"><div class=\"sk-item\"><div class=\"sk-label-container\"><div class=\"sk-label sk-toggleable\"><input class=\"sk-toggleable__control sk-hidden--visually\" id=\"364785ea-37a8-46a2-a447-4b84960295eb\" type=\"checkbox\" ><label class=\"sk-toggleable__label\" for=\"364785ea-37a8-46a2-a447-4b84960295eb\">simpleimputer</label><div class=\"sk-toggleable__content\"><pre>['co', 'no', 'no2', 'o3', 'so2', 'pm2_5', 'pm10', 'nh3']</pre></div></div></div><div class=\"sk-serial\"><div class=\"sk-item\"><div class=\"sk-estimator sk-toggleable\"><input class=\"sk-toggleable__control sk-hidden--visually\" id=\"de94b6ef-1d75-4978-aa4d-8eb3405fdb4f\" type=\"checkbox\" ><label class=\"sk-toggleable__label\" for=\"de94b6ef-1d75-4978-aa4d-8eb3405fdb4f\">SimpleImputer</label><div class=\"sk-toggleable__content\"><pre>SimpleImputer()</pre></div></div></div></div></div></div></div></div><div class=\"sk-item\"><div class=\"sk-estimator sk-toggleable\"><input class=\"sk-toggleable__control sk-hidden--visually\" id=\"5c68ef6d-4dd7-44e1-accc-11305f44ede7\" type=\"checkbox\" ><label class=\"sk-toggleable__label\" for=\"5c68ef6d-4dd7-44e1-accc-11305f44ede7\">StandardScaler</label><div class=\"sk-toggleable__content\"><pre>StandardScaler()</pre></div></div></div></div></div><div class=\"sk-item\"><div class=\"sk-estimator sk-toggleable\"><input class=\"sk-toggleable__control sk-hidden--visually\" id=\"d581aabb-7c6e-4092-b115-843ae2e3d4fd\" type=\"checkbox\" ><label class=\"sk-toggleable__label\" for=\"d581aabb-7c6e-4092-b115-843ae2e3d4fd\">MLPClassifier</label><div class=\"sk-toggleable__content\"><pre>MLPClassifier(alpha=2e-05, hidden_layer_sizes=(20,), max_iter=2500,\n",
       "              random_state=0)</pre></div></div></div></div></div></div></div>"
      ],
      "text/plain": [
       "Pipeline(steps=[('pipeline',\n",
       "                 Pipeline(steps=[('columntransformer',\n",
       "                                  ColumnTransformer(transformers=[('simpleimputer',\n",
       "                                                                   SimpleImputer(),\n",
       "                                                                   ['co', 'no',\n",
       "                                                                    'no2', 'o3',\n",
       "                                                                    'so2',\n",
       "                                                                    'pm2_5',\n",
       "                                                                    'pm10',\n",
       "                                                                    'nh3'])])),\n",
       "                                 ('standardscaler', StandardScaler())])),\n",
       "                ('mlpclassifier',\n",
       "                 MLPClassifier(alpha=2e-05, hidden_layer_sizes=(20,),\n",
       "                               max_iter=2500, random_state=0))])"
      ]
     },
     "execution_count": 29,
     "metadata": {},
     "output_type": "execute_result"
    }
   ],
   "source": [
    "full_pipeline.set_params(mlpclassifier__alpha = best_alpha)\n",
    "\n",
    "full_pipeline.fit(temp_X_df, temp_y_sr)"
   ]
  },
  {
   "cell_type": "code",
   "execution_count": 30,
   "id": "a0476d5e",
   "metadata": {},
   "outputs": [],
   "source": [
    "errors_temp=[]\n",
    "errors_test=[]"
   ]
  },
  {
   "cell_type": "markdown",
   "id": "0f80ce22",
   "metadata": {},
   "source": [
    "### Đánh giá mô hình tìm được:\n",
    "Đánh giá mô hình tìm được với test data"
   ]
  },
  {
   "cell_type": "code",
   "execution_count": 31,
   "id": "ed9ecde1",
   "metadata": {},
   "outputs": [
    {
     "name": "stdout",
     "output_type": "stream",
     "text": [
      "Error with train+val data:  3.81 %\n"
     ]
    }
   ],
   "source": [
    "#Độ lỗi trên tập (train+validation)\n",
    "err = ((1-full_pipeline.score(temp_X_df, temp_y_sr)) * 100).round(2)\n",
    "errors_temp.append(err)\n",
    "print('Error with train+val data: ', err, '%')"
   ]
  },
  {
   "cell_type": "code",
   "execution_count": 32,
   "id": "0b4c6b1d",
   "metadata": {},
   "outputs": [
    {
     "name": "stdout",
     "output_type": "stream",
     "text": [
      "Error with test data:  3.4 %\n"
     ]
    }
   ],
   "source": [
    "#Độ lỗi trên tập test\n",
    "err = ((1-full_pipeline.score(test_X_df, test_y_sr)) * 100).round(2)\n",
    "errors_test.append(err)\n",
    "print('Error with test data: ', err, '%')"
   ]
  },
  {
   "cell_type": "markdown",
   "id": "2bb861ae",
   "metadata": {},
   "source": [
    "### Nhận xét\n",
    "- Mô hình MLP-Classifier fit khá tốt trên tập dữ liệu<br/>\n",
    "- Độ lỗi trên cả tập (train+val) và tập test tương đối thấp <br/>\n",
    "- Khi chia nhỏ alpha hơn nữa thì độ lỗi trên cả 2 tập train và valid dường như không thay đổi nhiều.\n",
    "- Dự đoán trên tập train tốt hơn tập valid. Nhưng khi train model với alpha tốt nhất và dự đoán thì có sự bất ngờ, độ lỗi trên tập test tốt hơn cả độ lỗi trên tập train + val.\n",
    "- Dựa vào hai biểu đồ trên , ta thấy siêu tham số alpha không tỉ lệ thuận với độ lỗi trên cả hai tập. Tại một số điểm trên miền giá trị alpha đã xét, độ lỗi trên hai tập train và valid khi đang giảm sẽ đột ngột tăng lên sau đấy giảm tiếp.\n",
    "- Giải thích: Khi alpha quá nhỏ thì mô hình fit tốt nhưng quá free dẫn đến fit luôn cả nhiễu-> overfitting. Còn nếu nếu alpha quá lớn thì mô hình sẽ bị hạn chế quá nhiều , nó sẽ không thể fit nhiễu cũng như không thể fit những gì đáng lẽ nên được fit -> underfitting"
   ]
  },
  {
   "cell_type": "markdown",
   "id": "e66ef951",
   "metadata": {},
   "source": [
    "### 5.2 Mô hình Softmax Regression"
   ]
  },
  {
   "cell_type": "code",
   "execution_count": 33,
   "id": "65dda082",
   "metadata": {},
   "outputs": [
    {
     "name": "stderr",
     "output_type": "stream",
     "text": [
      "/home/lts/miniconda3/envs/min_ds-env/lib/python3.8/site-packages/sklearn/linear_model/_logistic.py:763: ConvergenceWarning: lbfgs failed to converge (status=1):\n",
      "STOP: TOTAL NO. of ITERATIONS REACHED LIMIT.\n",
      "\n",
      "Increase the number of iterations (max_iter) or scale the data as shown in:\n",
      "    https://scikit-learn.org/stable/modules/preprocessing.html\n",
      "Please also refer to the documentation for alternative solver options:\n",
      "    https://scikit-learn.org/stable/modules/linear_model.html#logistic-regression\n",
      "  n_iter_i = _check_optimize_result(\n"
     ]
    },
    {
     "data": {
      "text/html": [
       "<style>#sk-2c639883-dc4a-47b8-baa6-da670bd66c60 {color: black;background-color: white;}#sk-2c639883-dc4a-47b8-baa6-da670bd66c60 pre{padding: 0;}#sk-2c639883-dc4a-47b8-baa6-da670bd66c60 div.sk-toggleable {background-color: white;}#sk-2c639883-dc4a-47b8-baa6-da670bd66c60 label.sk-toggleable__label {cursor: pointer;display: block;width: 100%;margin-bottom: 0;padding: 0.2em 0.3em;box-sizing: border-box;text-align: center;}#sk-2c639883-dc4a-47b8-baa6-da670bd66c60 div.sk-toggleable__content {max-height: 0;max-width: 0;overflow: hidden;text-align: left;background-color: #f0f8ff;}#sk-2c639883-dc4a-47b8-baa6-da670bd66c60 div.sk-toggleable__content pre {margin: 0.2em;color: black;border-radius: 0.25em;background-color: #f0f8ff;}#sk-2c639883-dc4a-47b8-baa6-da670bd66c60 input.sk-toggleable__control:checked~div.sk-toggleable__content {max-height: 200px;max-width: 100%;overflow: auto;}#sk-2c639883-dc4a-47b8-baa6-da670bd66c60 div.sk-estimator input.sk-toggleable__control:checked~label.sk-toggleable__label {background-color: #d4ebff;}#sk-2c639883-dc4a-47b8-baa6-da670bd66c60 div.sk-label input.sk-toggleable__control:checked~label.sk-toggleable__label {background-color: #d4ebff;}#sk-2c639883-dc4a-47b8-baa6-da670bd66c60 input.sk-hidden--visually {border: 0;clip: rect(1px 1px 1px 1px);clip: rect(1px, 1px, 1px, 1px);height: 1px;margin: -1px;overflow: hidden;padding: 0;position: absolute;width: 1px;}#sk-2c639883-dc4a-47b8-baa6-da670bd66c60 div.sk-estimator {font-family: monospace;background-color: #f0f8ff;margin: 0.25em 0.25em;border: 1px dotted black;border-radius: 0.25em;box-sizing: border-box;}#sk-2c639883-dc4a-47b8-baa6-da670bd66c60 div.sk-estimator:hover {background-color: #d4ebff;}#sk-2c639883-dc4a-47b8-baa6-da670bd66c60 div.sk-parallel-item::after {content: \"\";width: 100%;border-bottom: 1px solid gray;flex-grow: 1;}#sk-2c639883-dc4a-47b8-baa6-da670bd66c60 div.sk-label:hover label.sk-toggleable__label {background-color: #d4ebff;}#sk-2c639883-dc4a-47b8-baa6-da670bd66c60 div.sk-serial::before {content: \"\";position: absolute;border-left: 1px solid gray;box-sizing: border-box;top: 2em;bottom: 0;left: 50%;}#sk-2c639883-dc4a-47b8-baa6-da670bd66c60 div.sk-serial {display: flex;flex-direction: column;align-items: center;background-color: white;}#sk-2c639883-dc4a-47b8-baa6-da670bd66c60 div.sk-item {z-index: 1;}#sk-2c639883-dc4a-47b8-baa6-da670bd66c60 div.sk-parallel {display: flex;align-items: stretch;justify-content: center;background-color: white;}#sk-2c639883-dc4a-47b8-baa6-da670bd66c60 div.sk-parallel-item {display: flex;flex-direction: column;position: relative;background-color: white;}#sk-2c639883-dc4a-47b8-baa6-da670bd66c60 div.sk-parallel-item:first-child::after {align-self: flex-end;width: 50%;}#sk-2c639883-dc4a-47b8-baa6-da670bd66c60 div.sk-parallel-item:last-child::after {align-self: flex-start;width: 50%;}#sk-2c639883-dc4a-47b8-baa6-da670bd66c60 div.sk-parallel-item:only-child::after {width: 0;}#sk-2c639883-dc4a-47b8-baa6-da670bd66c60 div.sk-dashed-wrapped {border: 1px dashed gray;margin: 0.2em;box-sizing: border-box;padding-bottom: 0.1em;background-color: white;position: relative;}#sk-2c639883-dc4a-47b8-baa6-da670bd66c60 div.sk-label label {font-family: monospace;font-weight: bold;background-color: white;display: inline-block;line-height: 1.2em;}#sk-2c639883-dc4a-47b8-baa6-da670bd66c60 div.sk-label-container {position: relative;z-index: 2;text-align: center;}#sk-2c639883-dc4a-47b8-baa6-da670bd66c60 div.sk-container {display: inline-block;position: relative;}</style><div id=\"sk-2c639883-dc4a-47b8-baa6-da670bd66c60\" class\"sk-top-container\"><div class=\"sk-container\"><div class=\"sk-item sk-dashed-wrapped\"><div class=\"sk-label-container\"><div class=\"sk-label sk-toggleable\"><input class=\"sk-toggleable__control sk-hidden--visually\" id=\"4dcdd990-acc0-43aa-9338-191bed1bf10f\" type=\"checkbox\" ><label class=\"sk-toggleable__label\" for=\"4dcdd990-acc0-43aa-9338-191bed1bf10f\">Pipeline</label><div class=\"sk-toggleable__content\"><pre>Pipeline(steps=[('pipeline',\n",
       "                 Pipeline(steps=[('columntransformer',\n",
       "                                  ColumnTransformer(transformers=[('simpleimputer',\n",
       "                                                                   SimpleImputer(),\n",
       "                                                                   ['co', 'no',\n",
       "                                                                    'no2', 'o3',\n",
       "                                                                    'so2',\n",
       "                                                                    'pm2_5',\n",
       "                                                                    'pm10',\n",
       "                                                                    'nh3'])])),\n",
       "                                 ('standardscaler', StandardScaler())])),\n",
       "                ('logisticregression',\n",
       "                 LogisticRegression(multi_class='multinomial'))])</pre></div></div></div><div class=\"sk-serial\"><div class=\"sk-item\"><div class=\"sk-label-container\"><div class=\"sk-label sk-toggleable\"><input class=\"sk-toggleable__control sk-hidden--visually\" id=\"84990bb4-cd5f-4076-b77b-4638b74d3bbe\" type=\"checkbox\" ><label class=\"sk-toggleable__label\" for=\"84990bb4-cd5f-4076-b77b-4638b74d3bbe\">pipeline: Pipeline</label><div class=\"sk-toggleable__content\"><pre>Pipeline(steps=[('columntransformer',\n",
       "                 ColumnTransformer(transformers=[('simpleimputer',\n",
       "                                                  SimpleImputer(),\n",
       "                                                  ['co', 'no', 'no2', 'o3',\n",
       "                                                   'so2', 'pm2_5', 'pm10',\n",
       "                                                   'nh3'])])),\n",
       "                ('standardscaler', StandardScaler())])</pre></div></div></div><div class=\"sk-serial\"><div class=\"sk-item sk-dashed-wrapped\"><div class=\"sk-label-container\"><div class=\"sk-label sk-toggleable\"><input class=\"sk-toggleable__control sk-hidden--visually\" id=\"3aa0169d-52b3-4f1d-ab8b-3903b0a8b7fa\" type=\"checkbox\" ><label class=\"sk-toggleable__label\" for=\"3aa0169d-52b3-4f1d-ab8b-3903b0a8b7fa\">columntransformer: ColumnTransformer</label><div class=\"sk-toggleable__content\"><pre>ColumnTransformer(transformers=[('simpleimputer', SimpleImputer(),\n",
       "                                 ['co', 'no', 'no2', 'o3', 'so2', 'pm2_5',\n",
       "                                  'pm10', 'nh3'])])</pre></div></div></div><div class=\"sk-parallel\"><div class=\"sk-parallel-item\"><div class=\"sk-item\"><div class=\"sk-label-container\"><div class=\"sk-label sk-toggleable\"><input class=\"sk-toggleable__control sk-hidden--visually\" id=\"fbd8a792-0320-4417-bfc6-92d9f4f761de\" type=\"checkbox\" ><label class=\"sk-toggleable__label\" for=\"fbd8a792-0320-4417-bfc6-92d9f4f761de\">simpleimputer</label><div class=\"sk-toggleable__content\"><pre>['co', 'no', 'no2', 'o3', 'so2', 'pm2_5', 'pm10', 'nh3']</pre></div></div></div><div class=\"sk-serial\"><div class=\"sk-item\"><div class=\"sk-estimator sk-toggleable\"><input class=\"sk-toggleable__control sk-hidden--visually\" id=\"974ab8f1-86c1-4868-a138-f755685ad3e3\" type=\"checkbox\" ><label class=\"sk-toggleable__label\" for=\"974ab8f1-86c1-4868-a138-f755685ad3e3\">SimpleImputer</label><div class=\"sk-toggleable__content\"><pre>SimpleImputer()</pre></div></div></div></div></div></div></div></div><div class=\"sk-item\"><div class=\"sk-estimator sk-toggleable\"><input class=\"sk-toggleable__control sk-hidden--visually\" id=\"42b2f3c9-59f1-4d53-b63a-4c30197a1e40\" type=\"checkbox\" ><label class=\"sk-toggleable__label\" for=\"42b2f3c9-59f1-4d53-b63a-4c30197a1e40\">StandardScaler</label><div class=\"sk-toggleable__content\"><pre>StandardScaler()</pre></div></div></div></div></div><div class=\"sk-item\"><div class=\"sk-estimator sk-toggleable\"><input class=\"sk-toggleable__control sk-hidden--visually\" id=\"6907393b-906b-4d56-932d-10f22f3d093b\" type=\"checkbox\" ><label class=\"sk-toggleable__label\" for=\"6907393b-906b-4d56-932d-10f22f3d093b\">LogisticRegression</label><div class=\"sk-toggleable__content\"><pre>LogisticRegression(multi_class='multinomial')</pre></div></div></div></div></div></div></div>"
      ],
      "text/plain": [
       "Pipeline(steps=[('pipeline',\n",
       "                 Pipeline(steps=[('columntransformer',\n",
       "                                  ColumnTransformer(transformers=[('simpleimputer',\n",
       "                                                                   SimpleImputer(),\n",
       "                                                                   ['co', 'no',\n",
       "                                                                    'no2', 'o3',\n",
       "                                                                    'so2',\n",
       "                                                                    'pm2_5',\n",
       "                                                                    'pm10',\n",
       "                                                                    'nh3'])])),\n",
       "                                 ('standardscaler', StandardScaler())])),\n",
       "                ('logisticregression',\n",
       "                 LogisticRegression(multi_class='multinomial'))])"
      ]
     },
     "execution_count": 33,
     "metadata": {},
     "output_type": "execute_result"
    }
   ],
   "source": [
    "log_reg_model = LogisticRegression(multi_class = 'multinomial')\n",
    "full_pipeline_2 = make_pipeline(preprocess_pipeline, log_reg_model)\n",
    "full_pipeline_2.fit(temp_X_df, temp_y_sr)"
   ]
  },
  {
   "cell_type": "code",
   "execution_count": 34,
   "id": "19e281b7",
   "metadata": {},
   "outputs": [
    {
     "name": "stdout",
     "output_type": "stream",
     "text": [
      "Error with train+valid data:  14.5 %\n"
     ]
    }
   ],
   "source": [
    "#Độ lỗi trên tập (train+validation)\n",
    "err = ((1-full_pipeline_2.score(temp_X_df, temp_y_sr)) * 100).round(2)\n",
    "print('Error with train+valid data: ', err, '%')\n",
    "errors_temp.append(err)"
   ]
  },
  {
   "cell_type": "code",
   "execution_count": 35,
   "id": "0878da84",
   "metadata": {},
   "outputs": [
    {
     "name": "stdout",
     "output_type": "stream",
     "text": [
      "Error with test data:  13.89 %\n"
     ]
    }
   ],
   "source": [
    "#Độ lỗi trên tập test\n",
    "err = ((1-full_pipeline_2.score(test_X_df, test_y_sr)) * 100).round(2)\n",
    "print('Error with test data: ', err, '%')\n",
    "errors_test.append(err)"
   ]
  },
  {
   "cell_type": "markdown",
   "id": "d19975f2",
   "metadata": {},
   "source": [
    "### Nhận xét\n",
    "- Độ lỗi trên cả hai tập khá cao (trên 10%)<br/>\n",
    "- Độ lỗi trên cả hai tập không chênh lệch nhau quá nhiều.\n",
    "- Mô hình fit khá ổn trên tập dữ liệu."
   ]
  },
  {
   "cell_type": "markdown",
   "id": "96371eb2",
   "metadata": {},
   "source": [
    "### 5.3 Mô hình K-Neighbors Classifier"
   ]
  },
  {
   "cell_type": "markdown",
   "id": "7575786e",
   "metadata": {},
   "source": [
    "Thử nghiệm nhiều giá trị của siêu tham số n_neighbors để tìm được độ lỗi trên tập validation tối ưu."
   ]
  },
  {
   "cell_type": "code",
   "execution_count": 36,
   "id": "41f09a54",
   "metadata": {},
   "outputs": [
    {
     "data": {
      "text/plain": [
       "'Finish!'"
      ]
     },
     "execution_count": 36,
     "metadata": {},
     "output_type": "execute_result"
    }
   ],
   "source": [
    "full_pipeline_3 = make_pipeline(preprocess_pipeline,KNeighborsClassifier())\n",
    "# Thử nghiệm với các giá trị khác nhau của các siêu tham số\n",
    "# và chọn ra các giá trị tốt nhất\n",
    "train_errs = []\n",
    "val_errs = []\n",
    "x=np.arange(2,31,1).tolist()\n",
    "y=y=np.arange(40,100,10).tolist()\n",
    "n_neighbors = x+y\n",
    "best_val_err = float('inf')\n",
    "best_neighbor = None\n",
    "for neighbor in n_neighbors:\n",
    "    full_pipeline_3.set_params(kneighborsclassifier__n_neighbors = neighbor)\n",
    "    full_pipeline_3.fit(train_X_df, train_y_sr)\n",
    "    train_errs.append((1 - full_pipeline_3.score(train_X_df, train_y_sr)) * 100)\n",
    "    val_errs.append((1 - full_pipeline_3.score(val_X_df, val_y_sr)) * 100)\n",
    "\n",
    "best_val_err = min(val_errs)\n",
    "index = val_errs.index(min(val_errs))\n",
    "best_neighbor = n_neighbors[index]\n",
    "\n",
    "'Finish!'"
   ]
  },
  {
   "cell_type": "markdown",
   "id": "43f9e4df",
   "metadata": {},
   "source": [
    "#### Độ lỗi trên tập train"
   ]
  },
  {
   "cell_type": "code",
   "execution_count": 37,
   "id": "7f9b9938",
   "metadata": {},
   "outputs": [
    {
     "data": {
      "text/plain": [
       "Text(0, 0.5, 'neighbor')"
      ]
     },
     "execution_count": 37,
     "metadata": {},
     "output_type": "execute_result"
    },
    {
     "data": {
      "image/png": "[encoded data removed]",
      "text/plain": [
       "<Figure size 432x288 with 1 Axes>"
      ]
     },
     "metadata": {
      "needs_background": "light"
     },
     "output_type": "display_data"
    }
   ],
   "source": [
    "cx = pd.Series(train_errs, index = n_neighbors).plot.barh()\n",
    "cx.set_xlabel('Độ lỗi trên tập train (%)')\n",
    "cx.set_ylabel('neighbor')"
   ]
  },
  {
   "cell_type": "markdown",
   "id": "1a4eb6ca",
   "metadata": {},
   "source": [
    "#### Độ lỗi trên tập valid"
   ]
  },
  {
   "cell_type": "code",
   "execution_count": 38,
   "id": "31ecff3c",
   "metadata": {},
   "outputs": [
    {
     "data": {
      "text/plain": [
       "Text(0, 0.5, 'neighbor')"
      ]
     },
     "execution_count": 38,
     "metadata": {},
     "output_type": "execute_result"
    },
    {
     "data": {
      "image/png": "[encoded data removed]",
      "text/plain": [
       "<Figure size 432x288 with 1 Axes>"
      ]
     },
     "metadata": {
      "needs_background": "light"
     },
     "output_type": "display_data"
    }
   ],
   "source": [
    "dx = pd.Series(val_errs, index = n_neighbors).plot.barh()\n",
    "dx.set_xlabel('Độ lỗi trên tập valid (%)')\n",
    "dx.set_ylabel('neighbor')"
   ]
  },
  {
   "cell_type": "markdown",
   "id": "ce9c0c49",
   "metadata": {},
   "source": [
    "#### Độ lỗi nhỏ nhất trên tập valid và neighbor tốt nhất"
   ]
  },
  {
   "cell_type": "code",
   "execution_count": 39,
   "id": "4ff483d5",
   "metadata": {},
   "outputs": [
    {
     "name": "stdout",
     "output_type": "stream",
     "text": [
      "Best valid err:  14.06 %\n",
      "\n",
      "Best neighbor:  3\n"
     ]
    }
   ],
   "source": [
    "print('Best valid err: ', best_val_err.round(2), '%')\n",
    "print()\n",
    "print('Best neighbor: ',best_neighbor)"
   ]
  },
  {
   "cell_type": "markdown",
   "id": "68a401fe",
   "metadata": {},
   "source": [
    "Cuối cùng, huấn luyện lại `full_pipeline` trên `X_df` và `y_sr` (tập huấn luyện + tập validation) với `best_neighbor` tìm được ở trên để ra được mô hình cụ thể cuối cùng."
   ]
  },
  {
   "cell_type": "code",
   "execution_count": 40,
   "id": "484e44cd",
   "metadata": {},
   "outputs": [
    {
     "data": {
      "text/html": [
       "<style>#sk-fa72d8df-49f9-4e7f-9e65-2956a171ad99 {color: black;background-color: white;}#sk-fa72d8df-49f9-4e7f-9e65-2956a171ad99 pre{padding: 0;}#sk-fa72d8df-49f9-4e7f-9e65-2956a171ad99 div.sk-toggleable {background-color: white;}#sk-fa72d8df-49f9-4e7f-9e65-2956a171ad99 label.sk-toggleable__label {cursor: pointer;display: block;width: 100%;margin-bottom: 0;padding: 0.2em 0.3em;box-sizing: border-box;text-align: center;}#sk-fa72d8df-49f9-4e7f-9e65-2956a171ad99 div.sk-toggleable__content {max-height: 0;max-width: 0;overflow: hidden;text-align: left;background-color: #f0f8ff;}#sk-fa72d8df-49f9-4e7f-9e65-2956a171ad99 div.sk-toggleable__content pre {margin: 0.2em;color: black;border-radius: 0.25em;background-color: #f0f8ff;}#sk-fa72d8df-49f9-4e7f-9e65-2956a171ad99 input.sk-toggleable__control:checked~div.sk-toggleable__content {max-height: 200px;max-width: 100%;overflow: auto;}#sk-fa72d8df-49f9-4e7f-9e65-2956a171ad99 div.sk-estimator input.sk-toggleable__control:checked~label.sk-toggleable__label {background-color: #d4ebff;}#sk-fa72d8df-49f9-4e7f-9e65-2956a171ad99 div.sk-label input.sk-toggleable__control:checked~label.sk-toggleable__label {background-color: #d4ebff;}#sk-fa72d8df-49f9-4e7f-9e65-2956a171ad99 input.sk-hidden--visually {border: 0;clip: rect(1px 1px 1px 1px);clip: rect(1px, 1px, 1px, 1px);height: 1px;margin: -1px;overflow: hidden;padding: 0;position: absolute;width: 1px;}#sk-fa72d8df-49f9-4e7f-9e65-2956a171ad99 div.sk-estimator {font-family: monospace;background-color: #f0f8ff;margin: 0.25em 0.25em;border: 1px dotted black;border-radius: 0.25em;box-sizing: border-box;}#sk-fa72d8df-49f9-4e7f-9e65-2956a171ad99 div.sk-estimator:hover {background-color: #d4ebff;}#sk-fa72d8df-49f9-4e7f-9e65-2956a171ad99 div.sk-parallel-item::after {content: \"\";width: 100%;border-bottom: 1px solid gray;flex-grow: 1;}#sk-fa72d8df-49f9-4e7f-9e65-2956a171ad99 div.sk-label:hover label.sk-toggleable__label {background-color: #d4ebff;}#sk-fa72d8df-49f9-4e7f-9e65-2956a171ad99 div.sk-serial::before {content: \"\";position: absolute;border-left: 1px solid gray;box-sizing: border-box;top: 2em;bottom: 0;left: 50%;}#sk-fa72d8df-49f9-4e7f-9e65-2956a171ad99 div.sk-serial {display: flex;flex-direction: column;align-items: center;background-color: white;}#sk-fa72d8df-49f9-4e7f-9e65-2956a171ad99 div.sk-item {z-index: 1;}#sk-fa72d8df-49f9-4e7f-9e65-2956a171ad99 div.sk-parallel {display: flex;align-items: stretch;justify-content: center;background-color: white;}#sk-fa72d8df-49f9-4e7f-9e65-2956a171ad99 div.sk-parallel-item {display: flex;flex-direction: column;position: relative;background-color: white;}#sk-fa72d8df-49f9-4e7f-9e65-2956a171ad99 div.sk-parallel-item:first-child::after {align-self: flex-end;width: 50%;}#sk-fa72d8df-49f9-4e7f-9e65-2956a171ad99 div.sk-parallel-item:last-child::after {align-self: flex-start;width: 50%;}#sk-fa72d8df-49f9-4e7f-9e65-2956a171ad99 div.sk-parallel-item:only-child::after {width: 0;}#sk-fa72d8df-49f9-4e7f-9e65-2956a171ad99 div.sk-dashed-wrapped {border: 1px dashed gray;margin: 0.2em;box-sizing: border-box;padding-bottom: 0.1em;background-color: white;position: relative;}#sk-fa72d8df-49f9-4e7f-9e65-2956a171ad99 div.sk-label label {font-family: monospace;font-weight: bold;background-color: white;display: inline-block;line-height: 1.2em;}#sk-fa72d8df-49f9-4e7f-9e65-2956a171ad99 div.sk-label-container {position: relative;z-index: 2;text-align: center;}#sk-fa72d8df-49f9-4e7f-9e65-2956a171ad99 div.sk-container {display: inline-block;position: relative;}</style><div id=\"sk-fa72d8df-49f9-4e7f-9e65-2956a171ad99\" class\"sk-top-container\"><div class=\"sk-container\"><div class=\"sk-item sk-dashed-wrapped\"><div class=\"sk-label-container\"><div class=\"sk-label sk-toggleable\"><input class=\"sk-toggleable__control sk-hidden--visually\" id=\"0d5f2886-8557-41cb-ad9e-1d4f8f75332a\" type=\"checkbox\" ><label class=\"sk-toggleable__label\" for=\"0d5f2886-8557-41cb-ad9e-1d4f8f75332a\">Pipeline</label><div class=\"sk-toggleable__content\"><pre>Pipeline(steps=[('pipeline',\n",
       "                 Pipeline(steps=[('columntransformer',\n",
       "                                  ColumnTransformer(transformers=[('simpleimputer',\n",
       "                                                                   SimpleImputer(),\n",
       "                                                                   ['co', 'no',\n",
       "                                                                    'no2', 'o3',\n",
       "                                                                    'so2',\n",
       "                                                                    'pm2_5',\n",
       "                                                                    'pm10',\n",
       "                                                                    'nh3'])])),\n",
       "                                 ('standardscaler', StandardScaler())])),\n",
       "                ('kneighborsclassifier', KNeighborsClassifier(n_neighbors=3))])</pre></div></div></div><div class=\"sk-serial\"><div class=\"sk-item\"><div class=\"sk-label-container\"><div class=\"sk-label sk-toggleable\"><input class=\"sk-toggleable__control sk-hidden--visually\" id=\"0725faf0-9363-4d91-9944-36a31a177e7d\" type=\"checkbox\" ><label class=\"sk-toggleable__label\" for=\"0725faf0-9363-4d91-9944-36a31a177e7d\">pipeline: Pipeline</label><div class=\"sk-toggleable__content\"><pre>Pipeline(steps=[('columntransformer',\n",
       "                 ColumnTransformer(transformers=[('simpleimputer',\n",
       "                                                  SimpleImputer(),\n",
       "                                                  ['co', 'no', 'no2', 'o3',\n",
       "                                                   'so2', 'pm2_5', 'pm10',\n",
       "                                                   'nh3'])])),\n",
       "                ('standardscaler', StandardScaler())])</pre></div></div></div><div class=\"sk-serial\"><div class=\"sk-item sk-dashed-wrapped\"><div class=\"sk-label-container\"><div class=\"sk-label sk-toggleable\"><input class=\"sk-toggleable__control sk-hidden--visually\" id=\"f10b945e-0420-4532-a791-52b39268b7d3\" type=\"checkbox\" ><label class=\"sk-toggleable__label\" for=\"f10b945e-0420-4532-a791-52b39268b7d3\">columntransformer: ColumnTransformer</label><div class=\"sk-toggleable__content\"><pre>ColumnTransformer(transformers=[('simpleimputer', SimpleImputer(),\n",
       "                                 ['co', 'no', 'no2', 'o3', 'so2', 'pm2_5',\n",
       "                                  'pm10', 'nh3'])])</pre></div></div></div><div class=\"sk-parallel\"><div class=\"sk-parallel-item\"><div class=\"sk-item\"><div class=\"sk-label-container\"><div class=\"sk-label sk-toggleable\"><input class=\"sk-toggleable__control sk-hidden--visually\" id=\"9deeb980-f6d5-428f-97b6-7ec7f689d3d0\" type=\"checkbox\" ><label class=\"sk-toggleable__label\" for=\"9deeb980-f6d5-428f-97b6-7ec7f689d3d0\">simpleimputer</label><div class=\"sk-toggleable__content\"><pre>['co', 'no', 'no2', 'o3', 'so2', 'pm2_5', 'pm10', 'nh3']</pre></div></div></div><div class=\"sk-serial\"><div class=\"sk-item\"><div class=\"sk-estimator sk-toggleable\"><input class=\"sk-toggleable__control sk-hidden--visually\" id=\"4b07d1dc-71b2-4543-89a3-5af9047a133e\" type=\"checkbox\" ><label class=\"sk-toggleable__label\" for=\"4b07d1dc-71b2-4543-89a3-5af9047a133e\">SimpleImputer</label><div class=\"sk-toggleable__content\"><pre>SimpleImputer()</pre></div></div></div></div></div></div></div></div><div class=\"sk-item\"><div class=\"sk-estimator sk-toggleable\"><input class=\"sk-toggleable__control sk-hidden--visually\" id=\"9cbbacec-48b0-46e7-8536-b7256f270d1f\" type=\"checkbox\" ><label class=\"sk-toggleable__label\" for=\"9cbbacec-48b0-46e7-8536-b7256f270d1f\">StandardScaler</label><div class=\"sk-toggleable__content\"><pre>StandardScaler()</pre></div></div></div></div></div><div class=\"sk-item\"><div class=\"sk-estimator sk-toggleable\"><input class=\"sk-toggleable__control sk-hidden--visually\" id=\"e4f99a61-0135-4e51-9309-568b3b4167f7\" type=\"checkbox\" ><label class=\"sk-toggleable__label\" for=\"e4f99a61-0135-4e51-9309-568b3b4167f7\">KNeighborsClassifier</label><div class=\"sk-toggleable__content\"><pre>KNeighborsClassifier(n_neighbors=3)</pre></div></div></div></div></div></div></div>"
      ],
      "text/plain": [
       "Pipeline(steps=[('pipeline',\n",
       "                 Pipeline(steps=[('columntransformer',\n",
       "                                  ColumnTransformer(transformers=[('simpleimputer',\n",
       "                                                                   SimpleImputer(),\n",
       "                                                                   ['co', 'no',\n",
       "                                                                    'no2', 'o3',\n",
       "                                                                    'so2',\n",
       "                                                                    'pm2_5',\n",
       "                                                                    'pm10',\n",
       "                                                                    'nh3'])])),\n",
       "                                 ('standardscaler', StandardScaler())])),\n",
       "                ('kneighborsclassifier', KNeighborsClassifier(n_neighbors=3))])"
      ]
     },
     "execution_count": 40,
     "metadata": {},
     "output_type": "execute_result"
    }
   ],
   "source": [
    "full_pipeline_3.set_params(kneighborsclassifier__n_neighbors = best_neighbor)\n",
    "\n",
    "full_pipeline_3.fit(temp_X_df, temp_y_sr)"
   ]
  },
  {
   "cell_type": "markdown",
   "id": "79ec9be6",
   "metadata": {},
   "source": [
    "### Đánh giá mô hình tìm được:"
   ]
  },
  {
   "cell_type": "code",
   "execution_count": 41,
   "id": "594cc9ee",
   "metadata": {},
   "outputs": [
    {
     "name": "stdout",
     "output_type": "stream",
     "text": [
      "Error with train+val data:  5.39 %\n"
     ]
    }
   ],
   "source": [
    "#Độ lỗi trên tập (train+validation)\n",
    "err = ((1-full_pipeline_3.score(temp_X_df, temp_y_sr)) * 100).round(2)\n",
    "errors_temp.append(err)\n",
    "print('Error with train+val data: ', err, '%')"
   ]
  },
  {
   "cell_type": "code",
   "execution_count": 42,
   "id": "6e3cc50d",
   "metadata": {},
   "outputs": [
    {
     "name": "stdout",
     "output_type": "stream",
     "text": [
      "Error with test data:  13.89 %\n"
     ]
    }
   ],
   "source": [
    "#Độ lỗi trên tập test\n",
    "err = ((1-full_pipeline_3.score(test_X_df, test_y_sr)) * 100).round(2)\n",
    "errors_test.append(err)\n",
    "print('Error with test data: ', err, '%')"
   ]
  },
  {
   "cell_type": "markdown",
   "id": "e4411af6",
   "metadata": {},
   "source": [
    "### Nhận xét\n",
    "- Độ lỗi trên cả hai tập chênh lệch nhiều .\n",
    "- Độ lỗi trên tập test cao (trên 10%)\n",
    "- Dựa vào hai biểu đồ độ lỗi trên, ta thấy tham số n_neighbors không tỉ lệ thuận với độ lỗi trên cả hai tập.Trên miền giá trị n_neighbors đã xét, giá trị độ lỗi có lúc tăng , có lúc giảm xen kẽ nhau. \n",
    "- Giải thích: chọn giá trị n_neighbors quá nhỏ sẽ dẫn đến tỉ lệ lỗi cao và độ nhạy đối với các điểm dữ liệu bất thường mang tính cục bộ. Nếu chọn giá trị n_neighbors quá lớn cũng sẽ làm tăng độ lỗi vì lấy trung bình quá nhiều kết quả(số lượng giáng giềng)."
   ]
  },
  {
   "cell_type": "markdown",
   "id": "e20cef6a",
   "metadata": {},
   "source": [
    "### 5.4 Mô hình tốt nhất\n"
   ]
  },
  {
   "cell_type": "code",
   "execution_count": 43,
   "id": "33676d74",
   "metadata": {},
   "outputs": [
    {
     "data": {
      "text/plain": [
       "<function matplotlib.pyplot.show(close=None, block=None)>"
      ]
     },
     "execution_count": 43,
     "metadata": {},
     "output_type": "execute_result"
    },
    {
     "data": {
      "image/png": "[encoded data removed]",
      "text/plain": [
       "<Figure size 432x288 with 1 Axes>"
      ]
     },
     "metadata": {
      "needs_background": "light"
     },
     "output_type": "display_data"
    }
   ],
   "source": [
    "divisions=['MLP Classifier','Softmax Regression','K-Neighbors Classifier']\n",
    "plt.bar(divisions,errors_temp,color='orange')\n",
    "plt.title('Train+Val Error')\n",
    "plt.xlabel('Models')\n",
    "plt.ylabel('Error(%)')\n",
    "plt.show"
   ]
  },
  {
   "cell_type": "code",
   "execution_count": 44,
   "id": "8600c1f5",
   "metadata": {},
   "outputs": [
    {
     "data": {
      "text/plain": [
       "<function matplotlib.pyplot.show(close=None, block=None)>"
      ]
     },
     "execution_count": 44,
     "metadata": {},
     "output_type": "execute_result"
    },
    {
     "data": {
      "image/png": "[encoded data removed]",
      "text/plain": [
       "<Figure size 432x288 with 1 Axes>"
      ]
     },
     "metadata": {
      "needs_background": "light"
     },
     "output_type": "display_data"
    }
   ],
   "source": [
    "plt.bar(divisions,errors_test,color='green')\n",
    "plt.title('Test Error')\n",
    "plt.xlabel('Models')\n",
    "plt.ylabel('Error(%)')\n",
    "plt.show"
   ]
  },
  {
   "cell_type": "markdown",
   "id": "d384bc4e",
   "metadata": {},
   "source": [
    "- Dựa vào độ lỗi trên tập test trên ta thấy mô hình MLP Classifier hoạt động hiệu quả hơn hai mô hình còn lại => dự đoán chất lượng không khí tốt nhất."
   ]
  },
  {
   "cell_type": "markdown",
   "id": "e7247188",
   "metadata": {},
   "source": [
    "# 6. Nhìn lại quá trình làm đồ án"
   ]
  },
  {
   "cell_type": "markdown",
   "id": "d58158d2",
   "metadata": {},
   "source": [
    "### 6.1 Những khó khăn đã gặp phải"
   ]
  },
  {
   "cell_type": "markdown",
   "id": "e3850fb0",
   "metadata": {},
   "source": [
    "- **Quang**: lựa chọn mô hình phù hợp với dữ liệu đã dùng, tốn thời gian trong việc tìm kiếm nguồn cung dữ liệu (một số webiste yêu cầu trả phí hoặc gửi email xin xác nhận mục đích sử dụng để truy cập dữ liệu).\n",
    "\n",
    "\n",
    "- **Sơn**: \n",
    "- Các khó khăn em đã gặp:\n",
    " - Tìm kiếm các ý tưởng.\n",
    " - Có ý tưởng nhưng không thể tìm được dữ liệu.\n",
    " - Tìm trên google các API phù hợp nhưng phải miễn phí."
   ]
  },
  {
   "cell_type": "markdown",
   "id": "9fe619e8",
   "metadata": {},
   "source": [
    "### 6.2 Những kỹ năng đã học được"
   ]
  },
  {
   "cell_type": "markdown",
   "id": "9a2d4a0f",
   "metadata": {},
   "source": [
    "- **Quang**: qua đồ án này em có thêm kinh nghiệm để chọn lọc và thu thập dữ liệu, hiểu thêm nhiều thuật toán phân lớp hữu ích,cẩn thận hơn trong cách trình bày.\n",
    "\n",
    "\n",
    "- **Sơn**:\n",
    "- Qua đồ án trên, em đã học được:\n",
    " - Nhiều trang cung cấp api miễn phí thú vị\n",
    " - Dùng các thuật toán phân lớp để mô hình hóa dữ liệu\n",
    " - Bình tĩnh hơn khi gặp các vấn đề không thể giải quyết ngay"
   ]
  },
  {
   "cell_type": "markdown",
   "id": "114e8b59",
   "metadata": {},
   "source": [
    "### 6.3 Nếu có thêm thời gian:"
   ]
  },
  {
   "cell_type": "markdown",
   "id": "b5336ebe",
   "metadata": {},
   "source": [
    "Nhóm sẽ tìm và thu thập dữ liệu đa dạng, phức tạp hơn, có thể thử nghiệm thu thập dữ liệu bằng cách parse HTML và mô hình hóa dữ liệu với nhiều thuật toán khác."
   ]
  },
  {
   "cell_type": "markdown",
   "id": "ba79aa61",
   "metadata": {},
   "source": [
    "# 7. Tài liệu tham khảo"
   ]
  },
  {
   "cell_type": "markdown",
   "id": "b6727226",
   "metadata": {},
   "source": [
    "Chủ yếu từ các trang web:\n",
    "- https://openweathermap.org/api/air-pollution<br/>\n",
    "- https://scikit-learn.org/ <br/>\n",
    "- https://stackoverflow.com/<br/>\n",
    "- https://www.w3schools.com/<br/>\n",
    "\n",
    "Video bài giảng + demo của môn học + slide bài giảng<br/>\n",
    "Homework:1, 2, 3"
   ]
  }
 ],
 "metadata": {
  "kernelspec": {
   "display_name": "Python 3 (ipykernel)",
   "language": "python",
   "name": "python3"
  },
  "language_info": {
   "codemirror_mode": {
    "name": "ipython",
    "version": 3
   },
   "file_extension": ".py",
   "mimetype": "text/x-python",
   "name": "python",
   "nbconvert_exporter": "python",
   "pygments_lexer": "ipython3",
   "version": "3.8.8"
  }
 },
 "nbformat": 4,
 "nbformat_minor": 5
}
